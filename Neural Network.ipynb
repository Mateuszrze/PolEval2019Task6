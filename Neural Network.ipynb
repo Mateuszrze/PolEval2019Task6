{
 "cells": [
  {
   "cell_type": "code",
   "execution_count": null,
   "id": "f9dfb023",
   "metadata": {},
   "outputs": [],
   "source": [
    "import numpy as np\n",
    "import torch\n",
    "import torch.nn as nn\n",
    "import torch.optim as optim"
   ]
  },
  {
   "cell_type": "code",
   "execution_count": null,
   "id": "05d3305d",
   "metadata": {},
   "outputs": [],
   "source": [
    "from data_reader import *\n",
    "from tweet_to_vec import TweetToVec\n",
    "from utils import str_to_vector\n",
    "from abstract_classifier import AbstractClassifier"
   ]
  },
  {
   "cell_type": "code",
   "execution_count": null,
   "id": "88a2bc8e",
   "metadata": {},
   "outputs": [],
   "source": [
    "dr = DataReader(tokenize_with_nlkt)\n",
    "train_1 = dr.read_data('data/train_text_1.txt')\n",
    "tags_train_1 = dr.read_tags('data/train_tags_1.txt')\n",
    "train_2 = dr.read_data('data/train_text_2.txt')\n",
    "tags_train_2 = dr.read_tags('data/train_tags_2.txt')\n",
    "\n",
    "test_1 = dr.read_data('data/test_text_1.txt')\n",
    "tags_test_1 = dr.read_tags('data/test_tags_1.txt')\n",
    "test_2 = dr.read_data('data/test_text_2.txt')\n",
    "tags_test_2 = dr.read_tags('data/test_tags_2.txt')"
   ]
  },
  {
   "cell_type": "code",
   "execution_count": null,
   "id": "1d79cbbb",
   "metadata": {},
   "outputs": [],
   "source": [
    "t2v = TweetToVec('fixed_length', L=8)\n",
    "t2v.read_embeddings_from_file('embeddings/emb1.txt')"
   ]
  },
  {
   "cell_type": "code",
   "execution_count": null,
   "id": "fecbcf41",
   "metadata": {},
   "outputs": [],
   "source": [
    "vectors = []\n",
    "for tweet in train_1:\n",
    "    vec = t2v.translate_to_vec(tweet)\n",
    "    print(len(vec))\n",
    "    vectors.append(vec)"
   ]
  },
  {
   "cell_type": "code",
   "execution_count": null,
   "id": "27d3ad52",
   "metadata": {},
   "outputs": [],
   "source": [
    "def group_into_batches(vecs, batch_size = 32):\n",
    "    \n",
    "    batches = []\n",
    "    current_batch = []\n",
    "    \n",
    "    for v in vecs:\n",
    "        current_batch.append(v)\n",
    "        print(v.shape)\n",
    "        if len(current_batch) == batch_size:\n",
    "            batches.append(np.array(current_batch))\n",
    "            current_batch = []\n",
    "    \n",
    "    if len(current_batch):\n",
    "        batches.append(np.array(current_batch))\n",
    "    \n",
    "    return batches"
   ]
  },
  {
   "cell_type": "code",
   "execution_count": null,
   "id": "48774019",
   "metadata": {},
   "outputs": [],
   "source": [
    "def to_tensor(data):\n",
    "    #TODO: watch out for cpu/gpu!\n",
    "    return torch.from_numpy(data)"
   ]
  },
  {
   "cell_type": "code",
   "execution_count": null,
   "id": "9d6d50ad",
   "metadata": {},
   "outputs": [],
   "source": [
    "batched_vectors = group_into_batches(vectors)\n",
    "for batch in batched_vectors:\n",
    "    print(batch.shape)\n",
    "train_data = [to_tensor(batch) for batch in batched_vectors]\n",
    "train_data_tags = to_tensor(tags_train_1)"
   ]
  },
  {
   "cell_type": "code",
   "execution_count": null,
   "id": "7fc08ecc",
   "metadata": {},
   "outputs": [],
   "source": [
    "class SimpleNetwork(nn.Module):\n",
    "    \n",
    "    def __init__(self, model, loss):\n",
    "        \n",
    "        super().__init__()\n",
    "        self.model = model\n",
    "        self.loss = loss\n",
    "    \n",
    "    def forward(self, x):\n",
    "        \n",
    "        return self.model(x)\n",
    "\n",
    "    def train(self, training_data, training_classes, epochs, optimizer):\n",
    "        \n",
    "        optimizer = optimizer(self.model.parameters(), lr = 0.1)\n",
    "        \n",
    "        for epoch in range(epochs):\n",
    "            for (input_batch, true_clssses) in zip(training_data, training_classes):\n",
    "                tensor_batch = to_tensor(input_batch)\n",
    "                preds = self.model(tensor_batch)\n",
    "                loss = self.loss(preds, true_classes)\n",
    "                optimizer.zero_grad()\n",
    "                loss.backward()\n",
    "                optimizer.step()\n",
    "                print(f'After epoch {epoch} loss = {loss}')\n",
    "        \n",
    "        "
   ]
  },
  {
   "cell_type": "code",
   "execution_count": null,
   "id": "1758067a",
   "metadata": {},
   "outputs": [],
   "source": [
    "simple_model = nn.Sequential(\n",
    "                nn.Linear(800, 2))\n",
    "\n",
    "adam_opt = optim.Adam\n",
    "ce_loss = torch.nn.CrossEntropyLoss()"
   ]
  },
  {
   "cell_type": "code",
   "execution_count": null,
   "id": "b5e84c7c",
   "metadata": {},
   "outputs": [],
   "source": [
    "simple_network = SimpleNetwork(simple_model, ce_loss)\n",
    "simple_network.train(train_1, tags_train_1, 10, adam_opt)"
   ]
  },
  {
   "cell_type": "code",
   "execution_count": null,
   "id": "e17d6db2",
   "metadata": {},
   "outputs": [],
   "source": []
  }
 ],
 "metadata": {
  "kernelspec": {
   "display_name": "Python 3 (ipykernel)",
   "language": "python",
   "name": "python3"
  },
  "language_info": {
   "codemirror_mode": {
    "name": "ipython",
    "version": 3
   },
   "file_extension": ".py",
   "mimetype": "text/x-python",
   "name": "python",
   "nbconvert_exporter": "python",
   "pygments_lexer": "ipython3",
   "version": "3.8.10"
  }
 },
 "nbformat": 4,
 "nbformat_minor": 5
}

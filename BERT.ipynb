{
 "cells": [
  {
   "cell_type": "code",
   "execution_count": 1,
   "id": "183d3988",
   "metadata": {},
   "outputs": [],
   "source": [
    "from data_reader import DataReader\n",
    "import batch_for_bert\n",
    "import datasets\n",
    "import utils"
   ]
  },
  {
   "cell_type": "code",
   "execution_count": 2,
   "id": "e4ee8060",
   "metadata": {},
   "outputs": [
    {
     "name": "stderr",
     "output_type": "stream",
     "text": [
      "100%|███████████████████████████████████| 10041/10041 [00:03<00:00, 3043.17it/s]\n",
      "100%|████████████████████████████████| 10041/10041 [00:00<00:00, 3706328.12it/s]\n",
      "100%|█████████████████████████████████████| 1000/1000 [00:00<00:00, 3163.44it/s]\n",
      "100%|██████████████████████████████████| 1000/1000 [00:00<00:00, 3628290.66it/s]\n",
      "100%|███████████████████████████████████| 10041/10041 [00:03<00:00, 3057.64it/s]\n",
      "100%|████████████████████████████████| 10041/10041 [00:00<00:00, 3017698.94it/s]\n",
      "100%|█████████████████████████████████████| 1000/1000 [00:00<00:00, 3484.94it/s]\n",
      "100%|██████████████████████████████████| 1000/1000 [00:00<00:00, 2414682.79it/s]\n"
     ]
    }
   ],
   "source": [
    "dr = DataReader('for_bert')\n",
    "\n",
    "dr.read_dataset(datasets.binary_classes)\n",
    "dr.read_dataset(datasets.ternary_classes)\n",
    "\n"
   ]
  },
  {
   "cell_type": "code",
   "execution_count": 3,
   "id": "78283e8a",
   "metadata": {
    "scrolled": true
   },
   "outputs": [],
   "source": [
    "batch_size = 32\n",
    "\n",
    "binary_dataset = dr.get_dataset('binary')\n",
    "ternary_dataset = dr.get_dataset('ternary')\n",
    "\n",
    "batched_binary = batch_for_bert.batch_dataset(binary_dataset, batch_size = 32)\n",
    "batched_ternary = batch_for_bert.batch_dataset(ternary_dataset, batch_size = 32)"
   ]
  },
  {
   "cell_type": "code",
   "execution_count": 4,
   "id": "7fc08ecc",
   "metadata": {},
   "outputs": [],
   "source": [
    "from bert_network import BertNetwork"
   ]
  },
  {
   "cell_type": "code",
   "execution_count": 5,
   "id": "1758067a",
   "metadata": {},
   "outputs": [],
   "source": [
    "import torch\n",
    "import torch.nn as nn\n",
    "import torch.optim as optim\n",
    "\n",
    "simple_model = nn.Sequential(\n",
    "                nn.Dropout(p = 0.5),\n",
    "                nn.Linear(768, 2))\n",
    "                \n",
    "\n",
    "ce_loss = torch.nn.functional.cross_entropy\n",
    "\n",
    "def my_optimizer_sgd(model_parameters):\n",
    "    return optim.SGD(model_parameters, lr = 0.0001, momentum = 0.9)"
   ]
  },
  {
   "cell_type": "code",
   "execution_count": 6,
   "id": "b5e84c7c",
   "metadata": {},
   "outputs": [
    {
     "name": "stderr",
     "output_type": "stream",
     "text": [
      "Some weights of the model checkpoint at bert-base-cased were not used when initializing BertModel: ['cls.predictions.transform.LayerNorm.weight', 'cls.predictions.transform.dense.bias', 'cls.seq_relationship.weight', 'cls.predictions.transform.LayerNorm.bias', 'cls.seq_relationship.bias', 'cls.predictions.transform.dense.weight', 'cls.predictions.bias']\n",
      "- This IS expected if you are initializing BertModel from the checkpoint of a model trained on another task or with another architecture (e.g. initializing a BertForSequenceClassification model from a BertForPreTraining model).\n",
      "- This IS NOT expected if you are initializing BertModel from the checkpoint of a model that you expect to be exactly identical (initializing a BertForSequenceClassification model from a BertForSequenceClassification model).\n",
      "0it [00:09, ?it/s]\n"
     ]
    },
    {
     "ename": "KeyboardInterrupt",
     "evalue": "",
     "output_type": "error",
     "traceback": [
      "\u001b[0;31m---------------------------------------------------------------------------\u001b[0m",
      "\u001b[0;31mKeyboardInterrupt\u001b[0m                         Traceback (most recent call last)",
      "\u001b[0;32m/tmp/ipykernel_1269010/2098143331.py\u001b[0m in \u001b[0;36m<module>\u001b[0;34m\u001b[0m\n\u001b[1;32m      1\u001b[0m \u001b[0mnetwork\u001b[0m \u001b[0;34m=\u001b[0m \u001b[0mBertNetwork\u001b[0m\u001b[0;34m(\u001b[0m\u001b[0msimple_model\u001b[0m\u001b[0;34m,\u001b[0m \u001b[0mce_loss\u001b[0m\u001b[0;34m)\u001b[0m\u001b[0;34m\u001b[0m\u001b[0;34m\u001b[0m\u001b[0m\n\u001b[0;32m----> 2\u001b[0;31m \u001b[0mnetwork\u001b[0m\u001b[0;34m.\u001b[0m\u001b[0mtrain\u001b[0m\u001b[0;34m(\u001b[0m\u001b[0mbatched_binary\u001b[0m\u001b[0;34m[\u001b[0m\u001b[0;34m'training tweets'\u001b[0m\u001b[0;34m]\u001b[0m\u001b[0;34m,\u001b[0m \u001b[0mbatched_binary\u001b[0m\u001b[0;34m[\u001b[0m\u001b[0;34m'training tags'\u001b[0m\u001b[0;34m]\u001b[0m\u001b[0;34m,\u001b[0m \u001b[0;36m20\u001b[0m\u001b[0;34m,\u001b[0m \u001b[0mmy_optimizer_sgd\u001b[0m\u001b[0;34m)\u001b[0m\u001b[0;34m\u001b[0m\u001b[0;34m\u001b[0m\u001b[0m\n\u001b[0m",
      "\u001b[0;32m~/Pulpit/NLP_projekt/PolEval2019Task6/bert_network.py\u001b[0m in \u001b[0;36mtrain\u001b[0;34m(self, training_data, training_classes, epochs, get_optimizer)\u001b[0m\n\u001b[1;32m     58\u001b[0m \u001b[0;34m\u001b[0m\u001b[0m\n\u001b[1;32m     59\u001b[0m                                 \u001b[0moptimizer\u001b[0m\u001b[0;34m.\u001b[0m\u001b[0mzero_grad\u001b[0m\u001b[0;34m(\u001b[0m\u001b[0;34m)\u001b[0m\u001b[0;34m\u001b[0m\u001b[0;34m\u001b[0m\u001b[0m\n\u001b[0;32m---> 60\u001b[0;31m                                 \u001b[0mloss\u001b[0m\u001b[0;34m.\u001b[0m\u001b[0mbackward\u001b[0m\u001b[0;34m(\u001b[0m\u001b[0;34m)\u001b[0m\u001b[0;34m\u001b[0m\u001b[0;34m\u001b[0m\u001b[0m\n\u001b[0m\u001b[1;32m     61\u001b[0m                                 \u001b[0moptimizer\u001b[0m\u001b[0;34m.\u001b[0m\u001b[0mstep\u001b[0m\u001b[0;34m(\u001b[0m\u001b[0;34m)\u001b[0m\u001b[0;34m\u001b[0m\u001b[0;34m\u001b[0m\u001b[0m\n\u001b[1;32m     62\u001b[0m \u001b[0;34m\u001b[0m\u001b[0m\n",
      "\u001b[0;32m~/.local/lib/python3.8/site-packages/torch/_tensor.py\u001b[0m in \u001b[0;36mbackward\u001b[0;34m(self, gradient, retain_graph, create_graph, inputs)\u001b[0m\n\u001b[1;32m    485\u001b[0m                 \u001b[0minputs\u001b[0m\u001b[0;34m=\u001b[0m\u001b[0minputs\u001b[0m\u001b[0;34m,\u001b[0m\u001b[0;34m\u001b[0m\u001b[0;34m\u001b[0m\u001b[0m\n\u001b[1;32m    486\u001b[0m             )\n\u001b[0;32m--> 487\u001b[0;31m         torch.autograd.backward(\n\u001b[0m\u001b[1;32m    488\u001b[0m             \u001b[0mself\u001b[0m\u001b[0;34m,\u001b[0m \u001b[0mgradient\u001b[0m\u001b[0;34m,\u001b[0m \u001b[0mretain_graph\u001b[0m\u001b[0;34m,\u001b[0m \u001b[0mcreate_graph\u001b[0m\u001b[0;34m,\u001b[0m \u001b[0minputs\u001b[0m\u001b[0;34m=\u001b[0m\u001b[0minputs\u001b[0m\u001b[0;34m\u001b[0m\u001b[0;34m\u001b[0m\u001b[0m\n\u001b[1;32m    489\u001b[0m         )\n",
      "\u001b[0;32m~/.local/lib/python3.8/site-packages/torch/autograd/__init__.py\u001b[0m in \u001b[0;36mbackward\u001b[0;34m(tensors, grad_tensors, retain_graph, create_graph, grad_variables, inputs)\u001b[0m\n\u001b[1;32m    198\u001b[0m     \u001b[0;31m# some Python versions print out the first line of a multi-line function\u001b[0m\u001b[0;34m\u001b[0m\u001b[0;34m\u001b[0m\u001b[0;34m\u001b[0m\u001b[0m\n\u001b[1;32m    199\u001b[0m     \u001b[0;31m# calls in the traceback and some print out the last line\u001b[0m\u001b[0;34m\u001b[0m\u001b[0;34m\u001b[0m\u001b[0;34m\u001b[0m\u001b[0m\n\u001b[0;32m--> 200\u001b[0;31m     Variable._execution_engine.run_backward(  # Calls into the C++ engine to run the backward pass\n\u001b[0m\u001b[1;32m    201\u001b[0m         \u001b[0mtensors\u001b[0m\u001b[0;34m,\u001b[0m \u001b[0mgrad_tensors_\u001b[0m\u001b[0;34m,\u001b[0m \u001b[0mretain_graph\u001b[0m\u001b[0;34m,\u001b[0m \u001b[0mcreate_graph\u001b[0m\u001b[0;34m,\u001b[0m \u001b[0minputs\u001b[0m\u001b[0;34m,\u001b[0m\u001b[0;34m\u001b[0m\u001b[0;34m\u001b[0m\u001b[0m\n\u001b[1;32m    202\u001b[0m         allow_unreachable=True, accumulate_grad=True)  # Calls into the C++ engine to run the backward pass\n",
      "\u001b[0;31mKeyboardInterrupt\u001b[0m: "
     ]
    }
   ],
   "source": [
    "network = BertNetwork(simple_model, ce_loss)\n",
    "network.train(batched_binary['training tweets'], batched_binary['training tags'], 20, my_optimizer_sgd)"
   ]
  },
  {
   "cell_type": "code",
   "execution_count": null,
   "id": "2b3e1c91",
   "metadata": {},
   "outputs": [],
   "source": [
    "binary_predictions = network.predict(batched_binary['test tweets'])\n",
    "utils.save_results(binary_predictions, 'results/binary_simple_network.txt')"
   ]
  },
  {
   "cell_type": "code",
   "execution_count": null,
   "id": "70cb2073",
   "metadata": {},
   "outputs": [],
   "source": [
    "!perl graders/evaluate1.pl results/binary_simple_network.txt"
   ]
  },
  {
   "cell_type": "code",
   "execution_count": null,
   "id": "01b3a265",
   "metadata": {},
   "outputs": [],
   "source": [
    "simple_model2 = nn.Sequential(\n",
    "                nn.Dropout(p = 0.5),\n",
    "                nn.Linear(768, 3))\n",
    "\n",
    "network2 = BertNetwork(simple_model2, ce_loss)\n",
    "network2.train(batched_ternary['training tweets'], batched_ternary['training tags'], 70, my_optimizer_sgd)"
   ]
  },
  {
   "cell_type": "code",
   "execution_count": null,
   "id": "e17d6db2",
   "metadata": {},
   "outputs": [],
   "source": [
    "ternary_predictions = network2.predict(batched_ternary['test tweets'])\n",
    "utils.save_results(ternary_predictions, 'results/ternary_simple_network.txt')"
   ]
  },
  {
   "cell_type": "code",
   "execution_count": null,
   "id": "57d8bb78",
   "metadata": {},
   "outputs": [],
   "source": [
    "!perl graders/evaluate2.pl results/ternary_simple_network.txt"
   ]
  },
  {
   "cell_type": "code",
   "execution_count": null,
   "id": "d50d053e",
   "metadata": {},
   "outputs": [],
   "source": []
  }
 ],
 "metadata": {
  "kernelspec": {
   "display_name": "Python 3 (ipykernel)",
   "language": "python",
   "name": "python3"
  },
  "language_info": {
   "codemirror_mode": {
    "name": "ipython",
    "version": 3
   },
   "file_extension": ".py",
   "mimetype": "text/x-python",
   "name": "python",
   "nbconvert_exporter": "python",
   "pygments_lexer": "ipython3",
   "version": "3.8.10"
  }
 },
 "nbformat": 4,
 "nbformat_minor": 5
}

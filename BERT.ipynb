{
 "cells": [
  {
   "cell_type": "code",
   "execution_count": 1,
   "id": "183d3988",
   "metadata": {},
   "outputs": [],
   "source": [
    "from data_reader import DataReader\n",
    "import batch_for_bert\n",
    "import datasets\n",
    "import utils"
   ]
  },
  {
   "cell_type": "code",
   "execution_count": 2,
   "id": "e4ee8060",
   "metadata": {},
   "outputs": [
    {
     "name": "stderr",
     "output_type": "stream",
     "text": [
      "100%|███████████████████████████████████| 10041/10041 [00:03<00:00, 3171.10it/s]\n",
      "100%|████████████████████████████████| 10041/10041 [00:00<00:00, 2382070.50it/s]\n",
      "100%|█████████████████████████████████████| 1000/1000 [00:00<00:00, 3263.48it/s]\n",
      "100%|██████████████████████████████████| 1000/1000 [00:00<00:00, 3572660.99it/s]\n",
      "100%|███████████████████████████████████| 10041/10041 [00:03<00:00, 3133.46it/s]\n",
      "100%|████████████████████████████████| 10041/10041 [00:00<00:00, 2426538.75it/s]\n",
      "100%|█████████████████████████████████████| 1000/1000 [00:00<00:00, 3216.86it/s]\n",
      "100%|██████████████████████████████████| 1000/1000 [00:00<00:00, 3675989.48it/s]\n"
     ]
    }
   ],
   "source": [
    "dr = DataReader('for_bert')\n",
    "\n",
    "dr.read_dataset(datasets.binary_classes)\n",
    "dr.read_dataset(datasets.ternary_classes)\n",
    "\n"
   ]
  },
  {
   "cell_type": "code",
   "execution_count": 3,
   "id": "78283e8a",
   "metadata": {
    "scrolled": true
   },
   "outputs": [],
   "source": [
    "batch_size = 32\n",
    "\n",
    "binary_dataset = dr.get_dataset('binary')\n",
    "ternary_dataset = dr.get_dataset('ternary')\n",
    "\n",
    "batched_binary = batch_for_bert.batch_dataset(binary_dataset, batch_size = 32)\n",
    "batched_ternary = batch_for_bert.batch_dataset(ternary_dataset, batch_size = 32)"
   ]
  },
  {
   "cell_type": "code",
   "execution_count": 4,
   "id": "7fc08ecc",
   "metadata": {},
   "outputs": [],
   "source": [
    "from bert_network import BertNetwork"
   ]
  },
  {
   "cell_type": "code",
   "execution_count": 5,
   "id": "1758067a",
   "metadata": {},
   "outputs": [],
   "source": [
    "import torch\n",
    "import torch.nn as nn\n",
    "import torch.optim as optim\n",
    "\n",
    "simple_model = nn.Sequential(\n",
    "                nn.Dropout(p = 0.5),\n",
    "                nn.Linear(786, 2))\n",
    "                \n",
    "\n",
    "ce_loss = torch.nn.functional.cross_entropy\n",
    "\n",
    "def my_optimizer_sgd(model_parameters):\n",
    "    return optim.SGD(model_parameters, lr = 0.0001, momentum = 0.9)"
   ]
  },
  {
   "cell_type": "code",
   "execution_count": 6,
   "id": "b5e84c7c",
   "metadata": {},
   "outputs": [
    {
     "ename": "NameError",
     "evalue": "name 'SimpleNetwork' is not defined",
     "output_type": "error",
     "traceback": [
      "\u001b[0;31m---------------------------------------------------------------------------\u001b[0m",
      "\u001b[0;31mNameError\u001b[0m                                 Traceback (most recent call last)",
      "\u001b[0;32m/tmp/ipykernel_1266100/2811144710.py\u001b[0m in \u001b[0;36m<module>\u001b[0;34m\u001b[0m\n\u001b[0;32m----> 1\u001b[0;31m \u001b[0mnetwork\u001b[0m \u001b[0;34m=\u001b[0m \u001b[0mSimpleNetwork\u001b[0m\u001b[0;34m(\u001b[0m\u001b[0msimple_model\u001b[0m\u001b[0;34m,\u001b[0m \u001b[0mce_loss\u001b[0m\u001b[0;34m)\u001b[0m\u001b[0;34m\u001b[0m\u001b[0;34m\u001b[0m\u001b[0m\n\u001b[0m\u001b[1;32m      2\u001b[0m \u001b[0mnetwork\u001b[0m\u001b[0;34m.\u001b[0m\u001b[0mtrain\u001b[0m\u001b[0;34m(\u001b[0m\u001b[0mbatched_binary\u001b[0m\u001b[0;34m[\u001b[0m\u001b[0;34m'training tweets'\u001b[0m\u001b[0;34m]\u001b[0m\u001b[0;34m,\u001b[0m \u001b[0mbatched_binary\u001b[0m\u001b[0;34m[\u001b[0m\u001b[0;34m'training tags'\u001b[0m\u001b[0;34m]\u001b[0m\u001b[0;34m,\u001b[0m \u001b[0;36m20\u001b[0m\u001b[0;34m,\u001b[0m \u001b[0mmy_optimizer_sgd\u001b[0m\u001b[0;34m)\u001b[0m\u001b[0;34m\u001b[0m\u001b[0;34m\u001b[0m\u001b[0m\n",
      "\u001b[0;31mNameError\u001b[0m: name 'SimpleNetwork' is not defined"
     ]
    }
   ],
   "source": [
    "network = BertNetwork(simple_model, ce_loss)\n",
    "network.train(batched_binary['training tweets'], batched_binary['training tags'], 20, my_optimizer_sgd)"
   ]
  },
  {
   "cell_type": "code",
   "execution_count": null,
   "id": "2b3e1c91",
   "metadata": {},
   "outputs": [],
   "source": [
    "binary_predictions = network.predict(batched_binary['test tweets'])\n",
    "utils.save_results(binary_predictions, 'results/binary_simple_network.txt')"
   ]
  },
  {
   "cell_type": "code",
   "execution_count": null,
   "id": "70cb2073",
   "metadata": {},
   "outputs": [],
   "source": [
    "!perl graders/evaluate1.pl results/binary_simple_network.txt"
   ]
  },
  {
   "cell_type": "code",
   "execution_count": null,
   "id": "01b3a265",
   "metadata": {},
   "outputs": [],
   "source": [
    "simple_model2 = nn.Sequential(\n",
    "                nn.Dropout(p = 0.5),\n",
    "                nn.Linear(786, 3))\n",
    "\n",
    "network2 = BertNetwork(simple_model2, ce_loss)\n",
    "network2.train(batched_ternary['training tweets'], batched_ternary['training tags'], 70, my_optimizer_sgd)"
   ]
  },
  {
   "cell_type": "code",
   "execution_count": null,
   "id": "e17d6db2",
   "metadata": {},
   "outputs": [],
   "source": [
    "ternary_predictions = network2.predict(batched_ternary['test tweets'])\n",
    "utils.save_results(ternary_predictions, 'results/ternary_simple_network.txt')"
   ]
  },
  {
   "cell_type": "code",
   "execution_count": null,
   "id": "57d8bb78",
   "metadata": {},
   "outputs": [],
   "source": [
    "!perl graders/evaluate2.pl results/ternary_simple_network.txt"
   ]
  },
  {
   "cell_type": "code",
   "execution_count": null,
   "id": "d50d053e",
   "metadata": {},
   "outputs": [],
   "source": []
  }
 ],
 "metadata": {
  "kernelspec": {
   "display_name": "Python 3 (ipykernel)",
   "language": "python",
   "name": "python3"
  },
  "language_info": {
   "codemirror_mode": {
    "name": "ipython",
    "version": 3
   },
   "file_extension": ".py",
   "mimetype": "text/x-python",
   "name": "python",
   "nbconvert_exporter": "python",
   "pygments_lexer": "ipython3",
   "version": "3.8.10"
  }
 },
 "nbformat": 4,
 "nbformat_minor": 5
}

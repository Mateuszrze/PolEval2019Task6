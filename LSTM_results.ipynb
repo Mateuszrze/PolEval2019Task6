{
 "cells": [
  {
   "cell_type": "code",
   "execution_count": 1,
   "id": "183d3988",
   "metadata": {},
   "outputs": [],
   "source": [
    "from data_reader import DataReader\n",
    "import datasets\n",
    "from tweet_to_vec import TweetToVec\n",
    "import utils\n",
    "from LSTM import LSTMModel\n",
    "from evaluate import evaluate1\n",
    "from evaluate import evaluate2\n",
    "import os\n",
    "import matplotlib.pyplot as plt\n",
    "\n",
    "import torch\n",
    "from tqdm import tqdm\n",
    "import numpy as np\n",
    "from torch import nn, optim\n",
    "import torch.nn as nn"
   ]
  },
  {
   "cell_type": "code",
   "execution_count": 2,
   "id": "a1335402",
   "metadata": {},
   "outputs": [],
   "source": [
    "dr = DataReader('nlkt')\n",
    "dr.read_dataset(datasets.binary_classes, False)\n",
    "dr.read_dataset(datasets.ternary_classes, False)\n",
    "embeddings = dr.read_embeddings('embeddings/kraby.txt', False)\n",
    "\n",
    "binary_dataset = dr.get_dataset('binary')\n",
    "binary_dataset = utils.extract_validation_from_training(binary_dataset)\n",
    "\n",
    "ternary_dataset = dr.get_dataset('ternary')\n",
    "ternary_dataset = utils.extract_validation_from_training(ternary_dataset)"
   ]
  },
  {
   "cell_type": "code",
   "execution_count": 3,
   "id": "e161fe66",
   "metadata": {},
   "outputs": [],
   "source": [
    "def test(dataset, epochs, method, L, size, num_layers, dropout, prediction_method, equalize_training_classes, learning_rate, number_of_output_classes):\n",
    "    batch_size = 32\n",
    "    t2v = TweetToVec(embeddings, method, L)\n",
    "\n",
    "    if equalize_training_classes:\n",
    "        dataset = utils.equalize_training_classes(dataset)\n",
    "    vectorized_dataset = t2v.vectorize_dataset(dataset)\n",
    "    def gen_batched():\n",
    "        batched_dataset = t2v.batch_dataset(vectorized_dataset, batch_size, True, True)\n",
    "        return batched_dataset['training tweets'], batched_dataset['training tags']\n",
    "\n",
    "    model = LSTMModel(size=size, embedding_dim=100,num_layers=num_layers, dropout=dropout, number_of_output_classes=number_of_output_classes, L=L, prediction_method=prediction_method, learning_rate=learning_rate)\n",
    "\n",
    "    batched = t2v.batch_dataset(vectorized_dataset, batch_size, True, False)\n",
    "    tweets = batched['validation tweets']\n",
    "    tags = batched['validation tags']\n",
    "    current_best_score = 0\n",
    "    best_model_path = \"\"\n",
    "    params_string = f'_number_of_output_classes_{number_of_output_classes}_method_{method}_L_{L}_size_{size}_num_layers_{num_layers}_dropout_{dropout}_prediction_method_{prediction_method}_equalize_training_classes_{equalize_training_classes}_learnig_rate_{learning_rate}'\n",
    "    \n",
    "    scores = []\n",
    "\n",
    "    for i in range(epochs):\n",
    "        model.train_model(gen_batched, 1)\n",
    "        model.eval()\n",
    "        predictions = model.predict(tweets)\n",
    "        score = 0\n",
    "        if number_of_output_classes == 2:\n",
    "            score = evaluate1(predictions, tags)['balancedf']\n",
    "            print(\" balancedf score on valid =\", score)\n",
    "        else:\n",
    "            score = evaluate2(predictions, tags)['microAverageFscore']\n",
    "            print(\" microAverageFscore score on valid =\", score)  \n",
    "        scores.append(score)  \n",
    "        if score > current_best_score:\n",
    "            if len(best_model_path) > 0:\n",
    "                os.remove(best_model_path)\n",
    "            current_best_score = score\n",
    "            str_score = str(score * 100)\n",
    "            str_score = str_score[:min(len(str_score), 5)]\n",
    "            best_model_path = 'models/LSTM_' + str_score + params_string + '.model'\n",
    "            torch.save(model.state_dict(), best_model_path)\n",
    "    \n",
    "\n",
    "    plt.plot(scores)\n",
    "    plt.ylabel('scores on validation over epochs')\n",
    "    plt.show()\n",
    "    print(\"Best score = \", current_best_score)"
   ]
  },
  {
   "cell_type": "code",
   "execution_count": 4,
   "id": "a03067dd",
   "metadata": {},
   "outputs": [],
   "source": [
    "def evaluate_on_test(filename, dataset, size, num_layers, dropout, L, prediction_method, method, number_of_output_classes):\n",
    "    model = LSTMModel(size=size, embedding_dim=100,num_layers=num_layers, dropout=dropout, number_of_output_classes=number_of_output_classes, L=L, prediction_method=prediction_method, learning_rate=0.0001)\n",
    "    model.load_state_dict(torch.load(filename))\n",
    "    model.eval()\n",
    "\n",
    "    t2v = TweetToVec(embeddings, method, L)\n",
    "    \n",
    "    vectorized_dataset = t2v.vectorize_dataset(dataset)\n",
    "\n",
    "    batched = t2v.batch_dataset(vectorized_dataset, 1, True, False)\n",
    "    tweets = batched['test tweets']\n",
    "    tags = batched['test tags']\n",
    "\n",
    "    predictions = model.predict(tweets)\n",
    "    if number_of_output_classes == 2:\n",
    "        score = evaluate1(predictions, tags)['balancedf']\n",
    "        print(\" balancedf score on test =\", score)\n",
    "    else:\n",
    "        score = evaluate2(predictions, tags)['microAverageFscore']\n",
    "        print(\" microAverageFscore score on test =\", score)"
   ]
  },
  {
   "attachments": {},
   "cell_type": "markdown",
   "id": "0fd95eb8",
   "metadata": {},
   "source": [
    "## Hyperparameters turning of LSTM on binary problem"
   ]
  },
  {
   "attachments": {},
   "cell_type": "markdown",
   "id": "e7e2103d",
   "metadata": {},
   "source": [
    "### First round of hyperparameters turning"
   ]
  },
  {
   "cell_type": "code",
   "execution_count": 15,
   "id": "74c4b536",
   "metadata": {},
   "outputs": [
    {
     "name": "stdout",
     "output_type": "stream",
     "text": [
      "After epoch 0 tot_loss = 330.7593688964844 balancedf score on valid = 0.4438040345821325\n",
      "After epoch 1 tot_loss = 229.4430389404297 balancedf score on valid = 0.42890442890442887\n",
      "After epoch 2 tot_loss = 205.07293701171875 balancedf score on valid = 0.5142857142857142\n",
      "After epoch 3 tot_loss = 189.1519775390625 balancedf score on valid = 0.5448028673835126\n",
      "After epoch 4 tot_loss = 172.0915069580078 balancedf score on valid = 0.4955223880597015\n",
      "After epoch 5 tot_loss = 160.54396057128906 balancedf score on valid = 0.548611111111111\n",
      "After epoch 6 tot_loss = 145.79762268066406 balancedf score on valid = 0.5482625482625484\n",
      "After epoch 7 tot_loss = 135.139404296875 balancedf score on valid = 0.5343511450381679\n",
      "After epoch 8 tot_loss = 124.82476806640625 balancedf score on valid = 0.5413533834586467\n",
      "After epoch 9 tot_loss = 117.57150268554688 balancedf score on valid = 0.5056603773584906\n",
      "After epoch 10 tot_loss = 113.15058898925781 balancedf score on valid = 0.5104895104895105\n",
      "After epoch 11 tot_loss = 105.53181457519531 balancedf score on valid = 0.5523012552301255\n",
      "After epoch 12 tot_loss = 101.18712615966797 balancedf score on valid = 0.5423728813559323\n",
      "After epoch 13 tot_loss = 97.02323913574219 balancedf score on valid = 0.5156794425087108\n",
      "After epoch 14 tot_loss = 92.82470703125 balancedf score on valid = 0.5283018867924528\n",
      "After epoch 15 tot_loss = 89.59878540039062 balancedf score on valid = 0.5228215767634855\n"
     ]
    },
    {
     "ename": "KeyboardInterrupt",
     "evalue": "",
     "output_type": "error",
     "traceback": [
      "\u001b[0;31m---------------------------------------------------------------------------\u001b[0m",
      "\u001b[0;31mKeyboardInterrupt\u001b[0m                         Traceback (most recent call last)",
      "\u001b[0;32m<ipython-input-15-1b81c82c542e>\u001b[0m in \u001b[0;36m<module>\u001b[0;34m\u001b[0m\n\u001b[0;32m----> 1\u001b[0;31m test(dataset=binary_dataset, \n\u001b[0m\u001b[1;32m      2\u001b[0m      \u001b[0mmethod\u001b[0m\u001b[0;34m=\u001b[0m\u001b[0;34m'fixed_length_2d'\u001b[0m\u001b[0;34m,\u001b[0m\u001b[0;34m\u001b[0m\u001b[0;34m\u001b[0m\u001b[0m\n\u001b[1;32m      3\u001b[0m      \u001b[0mL\u001b[0m\u001b[0;34m=\u001b[0m\u001b[0;36m30\u001b[0m\u001b[0;34m,\u001b[0m\u001b[0;34m\u001b[0m\u001b[0;34m\u001b[0m\u001b[0m\n\u001b[1;32m      4\u001b[0m      \u001b[0msize\u001b[0m\u001b[0;34m=\u001b[0m\u001b[0;36m256\u001b[0m\u001b[0;34m,\u001b[0m\u001b[0;34m\u001b[0m\u001b[0;34m\u001b[0m\u001b[0m\n\u001b[1;32m      5\u001b[0m      \u001b[0mnum_layers\u001b[0m\u001b[0;34m=\u001b[0m\u001b[0;36m3\u001b[0m\u001b[0;34m,\u001b[0m\u001b[0;34m\u001b[0m\u001b[0;34m\u001b[0m\u001b[0m\n",
      "\u001b[0;32m<ipython-input-13-6a7c5d007b55>\u001b[0m in \u001b[0;36mtest\u001b[0;34m(dataset, method, L, size, num_layers, dropout, prediction_method, equalize_training_classes, learning_rate, number_of_output_classes)\u001b[0m\n\u001b[1;32m     20\u001b[0m \u001b[0;34m\u001b[0m\u001b[0m\n\u001b[1;32m     21\u001b[0m     \u001b[0;32mfor\u001b[0m \u001b[0mi\u001b[0m \u001b[0;32min\u001b[0m \u001b[0mrange\u001b[0m\u001b[0;34m(\u001b[0m\u001b[0;36m30\u001b[0m\u001b[0;34m)\u001b[0m\u001b[0;34m:\u001b[0m\u001b[0;34m\u001b[0m\u001b[0;34m\u001b[0m\u001b[0m\n\u001b[0;32m---> 22\u001b[0;31m         \u001b[0mmodel\u001b[0m\u001b[0;34m.\u001b[0m\u001b[0mtrain_model\u001b[0m\u001b[0;34m(\u001b[0m\u001b[0mgen_batched\u001b[0m\u001b[0;34m,\u001b[0m \u001b[0;36m1\u001b[0m\u001b[0;34m)\u001b[0m\u001b[0;34m\u001b[0m\u001b[0;34m\u001b[0m\u001b[0m\n\u001b[0m\u001b[1;32m     23\u001b[0m         \u001b[0mmodel\u001b[0m\u001b[0;34m.\u001b[0m\u001b[0meval\u001b[0m\u001b[0;34m(\u001b[0m\u001b[0;34m)\u001b[0m\u001b[0;34m\u001b[0m\u001b[0;34m\u001b[0m\u001b[0m\n\u001b[1;32m     24\u001b[0m         \u001b[0mpredictions\u001b[0m \u001b[0;34m=\u001b[0m \u001b[0mmodel\u001b[0m\u001b[0;34m.\u001b[0m\u001b[0mpredict\u001b[0m\u001b[0;34m(\u001b[0m\u001b[0mtweets\u001b[0m\u001b[0;34m)\u001b[0m\u001b[0;34m\u001b[0m\u001b[0;34m\u001b[0m\u001b[0m\n",
      "\u001b[0;32m~/Studia/Semestr-10/NNANDNLP/PolEval2019Task6/LSTM.py\u001b[0m in \u001b[0;36mtrain_model\u001b[0;34m(self, gen_batched, epochs)\u001b[0m\n\u001b[1;32m     94\u001b[0m \u001b[0;34m\u001b[0m\u001b[0m\n\u001b[1;32m     95\u001b[0m                 \u001b[0mself\u001b[0m\u001b[0;34m.\u001b[0m\u001b[0moptimizer\u001b[0m\u001b[0;34m.\u001b[0m\u001b[0mzero_grad\u001b[0m\u001b[0;34m(\u001b[0m\u001b[0;34m)\u001b[0m\u001b[0;34m\u001b[0m\u001b[0;34m\u001b[0m\u001b[0m\n\u001b[0;32m---> 96\u001b[0;31m                 \u001b[0mloss\u001b[0m\u001b[0;34m.\u001b[0m\u001b[0mbackward\u001b[0m\u001b[0;34m(\u001b[0m\u001b[0;34m)\u001b[0m\u001b[0;34m\u001b[0m\u001b[0;34m\u001b[0m\u001b[0m\n\u001b[0m\u001b[1;32m     97\u001b[0m                 \u001b[0mself\u001b[0m\u001b[0;34m.\u001b[0m\u001b[0moptimizer\u001b[0m\u001b[0;34m.\u001b[0m\u001b[0mstep\u001b[0m\u001b[0;34m(\u001b[0m\u001b[0;34m)\u001b[0m\u001b[0;34m\u001b[0m\u001b[0;34m\u001b[0m\u001b[0m\n\u001b[1;32m     98\u001b[0m \u001b[0;34m\u001b[0m\u001b[0m\n",
      "\u001b[0;32m~/.local/lib/python3.8/site-packages/torch/_tensor.py\u001b[0m in \u001b[0;36mbackward\u001b[0;34m(self, gradient, retain_graph, create_graph, inputs)\u001b[0m\n\u001b[1;32m    485\u001b[0m                 \u001b[0minputs\u001b[0m\u001b[0;34m=\u001b[0m\u001b[0minputs\u001b[0m\u001b[0;34m,\u001b[0m\u001b[0;34m\u001b[0m\u001b[0;34m\u001b[0m\u001b[0m\n\u001b[1;32m    486\u001b[0m             )\n\u001b[0;32m--> 487\u001b[0;31m         torch.autograd.backward(\n\u001b[0m\u001b[1;32m    488\u001b[0m             \u001b[0mself\u001b[0m\u001b[0;34m,\u001b[0m \u001b[0mgradient\u001b[0m\u001b[0;34m,\u001b[0m \u001b[0mretain_graph\u001b[0m\u001b[0;34m,\u001b[0m \u001b[0mcreate_graph\u001b[0m\u001b[0;34m,\u001b[0m \u001b[0minputs\u001b[0m\u001b[0;34m=\u001b[0m\u001b[0minputs\u001b[0m\u001b[0;34m\u001b[0m\u001b[0;34m\u001b[0m\u001b[0m\n\u001b[1;32m    489\u001b[0m         )\n",
      "\u001b[0;32m~/.local/lib/python3.8/site-packages/torch/autograd/__init__.py\u001b[0m in \u001b[0;36mbackward\u001b[0;34m(tensors, grad_tensors, retain_graph, create_graph, grad_variables, inputs)\u001b[0m\n\u001b[1;32m    195\u001b[0m     \u001b[0;31m# some Python versions print out the first line of a multi-line function\u001b[0m\u001b[0;34m\u001b[0m\u001b[0;34m\u001b[0m\u001b[0;34m\u001b[0m\u001b[0m\n\u001b[1;32m    196\u001b[0m     \u001b[0;31m# calls in the traceback and some print out the last line\u001b[0m\u001b[0;34m\u001b[0m\u001b[0;34m\u001b[0m\u001b[0;34m\u001b[0m\u001b[0m\n\u001b[0;32m--> 197\u001b[0;31m     Variable._execution_engine.run_backward(  # Calls into the C++ engine to run the backward pass\n\u001b[0m\u001b[1;32m    198\u001b[0m         \u001b[0mtensors\u001b[0m\u001b[0;34m,\u001b[0m \u001b[0mgrad_tensors_\u001b[0m\u001b[0;34m,\u001b[0m \u001b[0mretain_graph\u001b[0m\u001b[0;34m,\u001b[0m \u001b[0mcreate_graph\u001b[0m\u001b[0;34m,\u001b[0m \u001b[0minputs\u001b[0m\u001b[0;34m,\u001b[0m\u001b[0;34m\u001b[0m\u001b[0;34m\u001b[0m\u001b[0m\n\u001b[1;32m    199\u001b[0m         allow_unreachable=True, accumulate_grad=True)  # Calls into the C++ engine to run the backward pass\n",
      "\u001b[0;31mKeyboardInterrupt\u001b[0m: "
     ]
    }
   ],
   "source": [
    "test(dataset=binary_dataset, \n",
    "     epochs=15,\n",
    "     method='fixed_length_2d', \n",
    "     L=30, \n",
    "     size=256, \n",
    "     num_layers=3, \n",
    "     dropout=0.2, \n",
    "     prediction_method='sum',\n",
    "     equalize_training_classes=True, \n",
    "     learning_rate=0.0001,\n",
    "     number_of_output_classes=2)"
   ]
  },
  {
   "cell_type": "code",
   "execution_count": 18,
   "id": "3adcc4cb",
   "metadata": {},
   "outputs": [
    {
     "name": "stdout",
     "output_type": "stream",
     "text": [
      "After epoch 0 tot_loss = 359.6738586425781 balancedf score on valid = 0.24096385542168675\n",
      "After epoch 1 tot_loss = 351.4238586425781 balancedf score on valid = 0.402332361516035\n",
      "After epoch 2 tot_loss = 265.6184997558594 balancedf score on valid = 0.45989304812834225\n",
      "After epoch 3 tot_loss = 244.39102172851562 balancedf score on valid = 0.4648648648648649\n",
      "After epoch 4 tot_loss = 234.86766052246094 balancedf score on valid = 0.4756756756756756\n",
      "After epoch 5 tot_loss = 225.9877166748047 balancedf score on valid = 0.48648648648648646\n",
      "After epoch 6 tot_loss = 220.8006134033203 balancedf score on valid = 0.45500000000000007\n",
      "After epoch 7 tot_loss = 213.50601196289062 balancedf score on valid = 0.48517520215633425\n",
      "After epoch 8 tot_loss = 209.81399536132812 balancedf score on valid = 0.48913043478260876\n",
      "After epoch 9 tot_loss = 204.04710388183594 balancedf score on valid = 0.48947368421052634\n",
      "After epoch 10 tot_loss = 200.35482788085938 balancedf score on valid = 0.4881889763779527\n",
      "After epoch 11 tot_loss = 197.09115600585938 balancedf score on valid = 0.49586776859504134\n",
      "After epoch 12 tot_loss = 193.25624084472656 balancedf score on valid = 0.4956772334293948\n",
      "After epoch 13 tot_loss = 192.32369995117188 balancedf score on valid = 0.4942528735632184\n",
      "After epoch 14 tot_loss = 186.82391357421875 balancedf score on valid = 0.4970414201183433\n"
     ]
    },
    {
     "ename": "NameError",
     "evalue": "name 'plt' is not defined",
     "output_type": "error",
     "traceback": [
      "\u001b[0;31m---------------------------------------------------------------------------\u001b[0m",
      "\u001b[0;31mNameError\u001b[0m                                 Traceback (most recent call last)",
      "\u001b[0;32m<ipython-input-18-f4fcb39cb953>\u001b[0m in \u001b[0;36m<module>\u001b[0;34m\u001b[0m\n\u001b[0;32m----> 1\u001b[0;31m test(dataset=binary_dataset, \n\u001b[0m\u001b[1;32m      2\u001b[0m      \u001b[0mepochs\u001b[0m\u001b[0;34m=\u001b[0m\u001b[0;36m15\u001b[0m\u001b[0;34m,\u001b[0m\u001b[0;34m\u001b[0m\u001b[0;34m\u001b[0m\u001b[0m\n\u001b[1;32m      3\u001b[0m      \u001b[0mmethod\u001b[0m\u001b[0;34m=\u001b[0m\u001b[0;34m'fixed_length_2d'\u001b[0m\u001b[0;34m,\u001b[0m\u001b[0;34m\u001b[0m\u001b[0;34m\u001b[0m\u001b[0m\n\u001b[1;32m      4\u001b[0m      \u001b[0mL\u001b[0m\u001b[0;34m=\u001b[0m\u001b[0;36m30\u001b[0m\u001b[0;34m,\u001b[0m\u001b[0;34m\u001b[0m\u001b[0;34m\u001b[0m\u001b[0m\n\u001b[1;32m      5\u001b[0m      \u001b[0msize\u001b[0m\u001b[0;34m=\u001b[0m\u001b[0;36m128\u001b[0m\u001b[0;34m,\u001b[0m\u001b[0;34m\u001b[0m\u001b[0;34m\u001b[0m\u001b[0m\n",
      "\u001b[0;32m<ipython-input-17-d3ef14c2caf7>\u001b[0m in \u001b[0;36mtest\u001b[0;34m(dataset, epochs, method, L, size, num_layers, dropout, prediction_method, equalize_training_classes, learning_rate, number_of_output_classes)\u001b[0m\n\u001b[1;32m     43\u001b[0m \u001b[0;34m\u001b[0m\u001b[0m\n\u001b[1;32m     44\u001b[0m \u001b[0;34m\u001b[0m\u001b[0m\n\u001b[0;32m---> 45\u001b[0;31m     \u001b[0mplt\u001b[0m\u001b[0;34m.\u001b[0m\u001b[0mplot\u001b[0m\u001b[0;34m(\u001b[0m\u001b[0mscores\u001b[0m\u001b[0;34m)\u001b[0m\u001b[0;34m\u001b[0m\u001b[0;34m\u001b[0m\u001b[0m\n\u001b[0m\u001b[1;32m     46\u001b[0m     \u001b[0mplt\u001b[0m\u001b[0;34m.\u001b[0m\u001b[0mylabel\u001b[0m\u001b[0;34m(\u001b[0m\u001b[0;34m'scores on validation over epochs'\u001b[0m\u001b[0;34m)\u001b[0m\u001b[0;34m\u001b[0m\u001b[0;34m\u001b[0m\u001b[0m\n\u001b[1;32m     47\u001b[0m     \u001b[0mplt\u001b[0m\u001b[0;34m.\u001b[0m\u001b[0mshow\u001b[0m\u001b[0;34m(\u001b[0m\u001b[0;34m)\u001b[0m\u001b[0;34m\u001b[0m\u001b[0;34m\u001b[0m\u001b[0m\n",
      "\u001b[0;31mNameError\u001b[0m: name 'plt' is not defined"
     ]
    }
   ],
   "source": [
    "test(dataset=binary_dataset, \n",
    "     epochs=15,\n",
    "     method='fixed_length_2d',\n",
    "     L=30, \n",
    "     size=128, \n",
    "     num_layers=3, \n",
    "     dropout=0.5, \n",
    "     prediction_method='max',\n",
    "     equalize_training_classes=True, \n",
    "     learning_rate=0.0001, \n",
    "     number_of_output_classes=2)"
   ]
  },
  {
   "cell_type": "code",
   "execution_count": 22,
   "id": "6c4ecc09",
   "metadata": {},
   "outputs": [
    {
     "name": "stdout",
     "output_type": "stream",
     "text": [
      "After epoch 0 tot_loss = 234.8706512451172 balancedf score on valid = 0.509090909090909\n",
      "After epoch 1 tot_loss = 154.11866760253906 balancedf score on valid = 0.5285714285714286\n",
      "After epoch 2 tot_loss = 114.95923614501953 balancedf score on valid = 0.5454545454545455\n",
      "After epoch 3 tot_loss = 92.57653045654297 balancedf score on valid = 0.5384615384615384\n",
      "After epoch 4 tot_loss = 74.16268920898438 balancedf score on valid = 0.5064377682403434\n",
      "After epoch 5 tot_loss = 62.922080993652344 balancedf score on valid = 0.5110132158590307\n",
      "After epoch 6 tot_loss = 54.043251037597656 balancedf score on valid = 0.5462962962962963\n",
      "After epoch 7 tot_loss = 48.48476028442383 balancedf score on valid = 0.5263157894736842\n",
      "After epoch 8 tot_loss = 43.323909759521484 balancedf score on valid = 0.5391304347826086\n",
      "After epoch 9 tot_loss = 39.457298278808594 balancedf score on valid = 0.5581395348837208\n",
      "After epoch 10 tot_loss = 34.16588592529297 balancedf score on valid = 0.5309734513274337\n",
      "After epoch 11 tot_loss = 31.2160587310791 balancedf score on valid = 0.5185185185185184\n",
      "After epoch 12 tot_loss = 28.02362823486328 balancedf score on valid = 0.5158371040723981\n",
      "After epoch 13 tot_loss = 27.982006072998047 balancedf score on valid = 0.5570776255707763\n",
      "After epoch 14 tot_loss = 24.470714569091797 balancedf score on valid = 0.5410628019323671\n"
     ]
    },
    {
     "data": {
      "image/png": "[encoded data removed]",
      "text/plain": [
       "<Figure size 432x288 with 1 Axes>"
      ]
     },
     "metadata": {
      "needs_background": "light"
     },
     "output_type": "display_data"
    },
    {
     "name": "stdout",
     "output_type": "stream",
     "text": [
      "Best score =  0.5581395348837208\n"
     ]
    }
   ],
   "source": [
    "test(dataset=binary_dataset, \n",
    "     epochs=15,\n",
    "     method='fixed_length_2d', \n",
    "     L=30, \n",
    "     size=256, \n",
    "     num_layers=2, \n",
    "     dropout=0.2, \n",
    "     prediction_method='max',\n",
    "     equalize_training_classes=True, \n",
    "     learning_rate=0.001, \n",
    "     number_of_output_classes=2)"
   ]
  },
  {
   "cell_type": "code",
   "execution_count": 23,
   "id": "2fff6091",
   "metadata": {},
   "outputs": [
    {
     "name": "stdout",
     "output_type": "stream",
     "text": [
      "After epoch 0 tot_loss = 359.8977966308594 balancedf score on valid = 0.37377049180327865\n",
      "After epoch 1 tot_loss = 268.52410888671875 balancedf score on valid = 0.4248704663212435\n",
      "After epoch 2 tot_loss = 235.3164825439453 balancedf score on valid = 0.4740259740259741\n",
      "After epoch 3 tot_loss = 221.3602294921875 balancedf score on valid = 0.47023809523809523\n",
      "After epoch 4 tot_loss = 211.97708129882812 balancedf score on valid = 0.47734138972809664\n",
      "After epoch 5 tot_loss = 203.66969299316406 balancedf score on valid = 0.49132947976878616\n",
      "After epoch 6 tot_loss = 195.34800720214844 balancedf score on valid = 0.5107913669064749\n",
      "After epoch 7 tot_loss = 188.8491973876953 balancedf score on valid = 0.527331189710611\n",
      "After epoch 8 tot_loss = 183.0036163330078 balancedf score on valid = 0.5206349206349207\n",
      "After epoch 9 tot_loss = 177.36314392089844 balancedf score on valid = 0.5192307692307693\n",
      "After epoch 10 tot_loss = 173.70230102539062 balancedf score on valid = 0.5197368421052632\n",
      "After epoch 11 tot_loss = 170.50636291503906 balancedf score on valid = 0.5409252669039146\n",
      "After epoch 12 tot_loss = 165.97235107421875 balancedf score on valid = 0.5238095238095238\n",
      "After epoch 13 tot_loss = 163.2166748046875 balancedf score on valid = 0.5403508771929825\n",
      "After epoch 14 tot_loss = 159.02650451660156 balancedf score on valid = 0.5296167247386759\n"
     ]
    },
    {
     "data": {
      "image/png": "[encoded data removed]",
      "text/plain": [
       "<Figure size 432x288 with 1 Axes>"
      ]
     },
     "metadata": {
      "needs_background": "light"
     },
     "output_type": "display_data"
    },
    {
     "name": "stdout",
     "output_type": "stream",
     "text": [
      "Best score =  0.5409252669039146\n"
     ]
    }
   ],
   "source": [
    "test(dataset=binary_dataset, \n",
    "     epochs=15,\n",
    "     method='fixed_length_2d', \n",
    "     L=30, \n",
    "     size=128,\n",
    "     num_layers=2, \n",
    "     dropout=0.5, \n",
    "     prediction_method='sum',\n",
    "     equalize_training_classes=True, \n",
    "     learning_rate=0.0001, \n",
    "     number_of_output_classes=2)"
   ]
  },
  {
   "attachments": {},
   "cell_type": "markdown",
   "id": "8871aa32",
   "metadata": {},
   "source": [
    "Last model was learning steadily and achieved a very nice score. The rest seemed to be randomly increasing and decreasing the result. We know that the loss is not compatible with the score we want to minimize, thus minimal loss doesn't mean everything to us."
   ]
  },
  {
   "attachments": {},
   "cell_type": "markdown",
   "id": "ef5cbdfd",
   "metadata": {},
   "source": [
    "### Second iterations round (small changed of the best from the previous round)"
   ]
  },
  {
   "cell_type": "code",
   "execution_count": 26,
   "id": "a5fbcd10",
   "metadata": {},
   "outputs": [
    {
     "name": "stdout",
     "output_type": "stream",
     "text": [
      "After epoch 0 tot_loss = 302.0845031738281 balancedf score on valid = 0.4299065420560748\n",
      "After epoch 1 tot_loss = 233.60458374023438 balancedf score on valid = 0.4930747922437673\n",
      "After epoch 2 tot_loss = 213.33242797851562 balancedf score on valid = 0.4981949458483754\n",
      "After epoch 3 tot_loss = 201.34019470214844 balancedf score on valid = 0.5028901734104047\n",
      "After epoch 4 tot_loss = 190.97964477539062 balancedf score on valid = 0.527331189710611\n",
      "After epoch 5 tot_loss = 185.15469360351562 balancedf score on valid = 0.5519713261648745\n",
      "After epoch 6 tot_loss = 175.1431884765625 balancedf score on valid = 0.5517241379310345\n",
      "After epoch 7 tot_loss = 168.17605590820312 balancedf score on valid = 0.5276872964169381\n",
      "After epoch 8 tot_loss = 163.77670288085938 balancedf score on valid = 0.5415162454873647\n",
      "After epoch 9 tot_loss = 157.2568817138672 balancedf score on valid = 0.5369127516778524\n",
      "After epoch 10 tot_loss = 151.3604736328125 balancedf score on valid = 0.5357142857142858\n",
      "After epoch 11 tot_loss = 147.9664306640625 balancedf score on valid = 0.5376344086021506\n",
      "After epoch 12 tot_loss = 143.42271423339844 balancedf score on valid = 0.5481481481481483\n",
      "After epoch 13 tot_loss = 139.2833709716797 balancedf score on valid = 0.5530303030303031\n",
      "After epoch 14 tot_loss = 137.0240478515625 balancedf score on valid = 0.5300353356890459\n"
     ]
    },
    {
     "data": {
      "image/png": "[encoded data removed]",
      "text/plain": [
       "<Figure size 432x288 with 1 Axes>"
      ]
     },
     "metadata": {
      "needs_background": "light"
     },
     "output_type": "display_data"
    },
    {
     "name": "stdout",
     "output_type": "stream",
     "text": [
      "Best score =  0.5530303030303031\n"
     ]
    }
   ],
   "source": [
    "test(dataset=binary_dataset, \n",
    "     epochs=15,\n",
    "     method='fixed_length_2d', \n",
    "     L=30, \n",
    "     size=256,\n",
    "     num_layers=2, \n",
    "     dropout=0.5, \n",
    "     prediction_method='sum',\n",
    "     equalize_training_classes=True, \n",
    "     learning_rate=0.0001, \n",
    "     number_of_output_classes=2)"
   ]
  },
  {
   "cell_type": "code",
   "execution_count": 27,
   "id": "5ca8c305",
   "metadata": {},
   "outputs": [
    {
     "name": "stdout",
     "output_type": "stream",
     "text": [
      "After epoch 0 tot_loss = 242.71006774902344 balancedf score on valid = 0.5311475409836065\n",
      "After epoch 1 tot_loss = 170.85586547851562 balancedf score on valid = 0.5088757396449703\n",
      "After epoch 2 tot_loss = 135.07183837890625 balancedf score on valid = 0.5182724252491694\n",
      "After epoch 3 tot_loss = 111.8652572631836 balancedf score on valid = 0.5650224215246636\n",
      "After epoch 4 tot_loss = 96.95565032958984 balancedf score on valid = 0.5168539325842697\n",
      "After epoch 5 tot_loss = 80.54532623291016 balancedf score on valid = 0.5079365079365079\n",
      "After epoch 6 tot_loss = 71.7242431640625 balancedf score on valid = 0.5\n",
      "After epoch 7 tot_loss = 64.42375183105469 balancedf score on valid = 0.5288461538461539\n",
      "After epoch 8 tot_loss = 58.333404541015625 balancedf score on valid = 0.541871921182266\n",
      "After epoch 9 tot_loss = 51.72410202026367 balancedf score on valid = 0.5284552845528455\n",
      "After epoch 10 tot_loss = 49.97296142578125 balancedf score on valid = 0.5570776255707763\n",
      "After epoch 11 tot_loss = 42.777469635009766 balancedf score on valid = 0.5412844036697249\n",
      "After epoch 12 tot_loss = 41.65275955200195 balancedf score on valid = 0.5249999999999999\n",
      "After epoch 13 tot_loss = 36.636619567871094 balancedf score on valid = 0.5333333333333333\n",
      "After epoch 14 tot_loss = 36.64710998535156 balancedf score on valid = 0.5502645502645503\n"
     ]
    },
    {
     "data": {
      "image/png": "[encoded data removed]",
      "text/plain": [
       "<Figure size 432x288 with 1 Axes>"
      ]
     },
     "metadata": {
      "needs_background": "light"
     },
     "output_type": "display_data"
    },
    {
     "name": "stdout",
     "output_type": "stream",
     "text": [
      "Best score =  0.5650224215246636\n"
     ]
    }
   ],
   "source": [
    "test(dataset=binary_dataset, \n",
    "     epochs=15,\n",
    "     method='fixed_length_2d', \n",
    "     L=30, \n",
    "     size=128,\n",
    "     num_layers=2, \n",
    "     dropout=0.5, \n",
    "     prediction_method='sum',\n",
    "     equalize_training_classes=True, \n",
    "     learning_rate=0.001, \n",
    "     number_of_output_classes=2)"
   ]
  },
  {
   "cell_type": "code",
   "execution_count": 6,
   "id": "77124ed9",
   "metadata": {},
   "outputs": [
    {
     "name": "stdout",
     "output_type": "stream",
     "text": [
      "After epoch 0 tot_loss = 365.2879943847656 balancedf score on valid = 0.020408163265306128\n",
      "After epoch 1 tot_loss = 313.4440612792969 balancedf score on valid = 0.40129449838187703\n",
      "After epoch 2 tot_loss = 238.50389099121094 balancedf score on valid = 0.41403508771929826\n",
      "After epoch 3 tot_loss = 223.94395446777344 balancedf score on valid = 0.3604060913705584\n",
      "After epoch 4 tot_loss = 214.2071533203125 balancedf score on valid = 0.41471571906354515\n"
     ]
    }
   ],
   "source": [
    "test(dataset=binary_dataset, \n",
    "     epochs=15,\n",
    "     method='fixed_length_2d', \n",
    "     L=30, \n",
    "     size=128,\n",
    "     num_layers=3, \n",
    "     dropout=0.5, \n",
    "     prediction_method='sum',\n",
    "     equalize_training_classes=True, \n",
    "     learning_rate=0.0001, \n",
    "     number_of_output_classes=2)"
   ]
  },
  {
   "cell_type": "code",
   "execution_count": null,
   "id": "874448cf",
   "metadata": {},
   "outputs": [],
   "source": [
    "test(dataset=binary_dataset, \n",
    "     epochs=15,\n",
    "     method='fixed_length_2d', \n",
    "     L=30, \n",
    "     size=128,\n",
    "     num_layers=2, \n",
    "     dropout=0.8, \n",
    "     prediction_method='sum',\n",
    "     equalize_training_classes=True, \n",
    "     learning_rate=0.0001, \n",
    "     number_of_output_classes=2)"
   ]
  },
  {
   "cell_type": "code",
   "execution_count": null,
   "id": "1e1c6639",
   "metadata": {},
   "outputs": [],
   "source": [
    "test(dataset=binary_dataset, \n",
    "     epochs=15,\n",
    "     method='fixed_length_2d', \n",
    "     L=30, \n",
    "     size=128,\n",
    "     num_layers=2, \n",
    "     dropout=0.5, \n",
    "     prediction_method='last',\n",
    "     equalize_training_classes=True, \n",
    "     learning_rate=0.0001, \n",
    "     number_of_output_classes=2)"
   ]
  },
  {
   "cell_type": "code",
   "execution_count": null,
   "id": "dc49c1ad",
   "metadata": {},
   "outputs": [],
   "source": [
    "test(dataset=binary_dataset, \n",
    "     epochs=15,\n",
    "     method='fixed_length_2d', \n",
    "     L=30, \n",
    "     size=128,\n",
    "     num_layers=2, \n",
    "     dropout=0.5, \n",
    "     prediction_method='max',\n",
    "     equalize_training_classes=True, \n",
    "     learning_rate=0.0001, \n",
    "     number_of_output_classes=2)"
   ]
  },
  {
   "cell_type": "code",
   "execution_count": null,
   "id": "83788145",
   "metadata": {},
   "outputs": [],
   "source": [
    "test(dataset=binary_dataset, \n",
    "     epochs=15,\n",
    "     method='fixed_length_2d', \n",
    "     L=30, \n",
    "     size=128,\n",
    "     num_layers=2, \n",
    "     dropout=0.5, \n",
    "     prediction_method='sum',\n",
    "     equalize_training_classes=True, \n",
    "     learning_rate=0.01, \n",
    "     number_of_output_classes=2)"
   ]
  },
  {
   "cell_type": "code",
   "execution_count": null,
   "id": "4ca8ad7f",
   "metadata": {},
   "outputs": [],
   "source": [
    "test(dataset=binary_dataset, \n",
    "     epochs=15,\n",
    "     method='fixed_length_2d', \n",
    "     L=30, \n",
    "     size=128,\n",
    "     num_layers=2, \n",
    "     dropout=0.5, \n",
    "     prediction_method='sum',\n",
    "     equalize_training_classes=False, \n",
    "     learning_rate=0.0001, \n",
    "     number_of_output_classes=2)"
   ]
  },
  {
   "cell_type": "code",
   "execution_count": null,
   "id": "eb31ac49",
   "metadata": {},
   "outputs": [],
   "source": [
    "test(dataset=binary_dataset, \n",
    "     epochs=15,\n",
    "     method='fixed_length_2d', \n",
    "     L=20, \n",
    "     size=128,\n",
    "     num_layers=2, \n",
    "     dropout=0.5, \n",
    "     prediction_method='sum',\n",
    "     equalize_training_classes=False, \n",
    "     learning_rate=0.0001, \n",
    "     number_of_output_classes=2)"
   ]
  },
  {
   "attachments": {},
   "cell_type": "markdown",
   "id": "f8335b50",
   "metadata": {},
   "source": [
    "### Evaluation of the best LSTM model on binary problem"
   ]
  },
  {
   "cell_type": "code",
   "execution_count": 16,
   "id": "7ef54e0c",
   "metadata": {},
   "outputs": [
    {
     "name": "stdout",
     "output_type": "stream",
     "text": [
      " balancedf score on test = 0.5735849056603773\n"
     ]
    }
   ],
   "source": [
    "evaluate_on_test('models/LSTM_55.23_number_of_output_classes_2_method_fixed_length_2d_L_30_size_256_num_layers_3_dropout_0.2_prediction_method_sum_equalize_training_classes_True_learnig_rate_0.0001.model',\n",
    "                 dataset=binary_dataset,\n",
    "                 size=256,\n",
    "                 num_layers=3,\n",
    "                 dropout=0.2,\n",
    "                 L=30,\n",
    "                 prediction_method='sum',\n",
    "                 method='fixed_length_2d',\n",
    "                 number_of_output_classes=2)"
   ]
  },
  {
   "cell_type": "code",
   "execution_count": 21,
   "id": "cf53030e",
   "metadata": {},
   "outputs": [
    {
     "name": "stdout",
     "output_type": "stream",
     "text": [
      " balancedf score on test = 0.5653333333333332\n"
     ]
    }
   ],
   "source": [
    "evaluate_on_test('models/LSTM_49.70_number_of_output_classes_2_method_fixed_length_2d_L_30_size_128_num_layers_3_dropout_0.5_prediction_method_max_equalize_training_classes_True_learnig_rate_0.0001.model',                 \n",
    "                 dataset=binary_dataset,\n",
    "                 size=128,\n",
    "                 num_layers=3,\n",
    "                 dropout=0.5,\n",
    "                 L=30,\n",
    "                 prediction_method='max',\n",
    "                 method='fixed_length_2d',\n",
    "                 number_of_output_classes=2)"
   ]
  },
  {
   "cell_type": "code",
   "execution_count": 24,
   "id": "dcb5a632",
   "metadata": {},
   "outputs": [
    {
     "name": "stdout",
     "output_type": "stream",
     "text": [
      " balancedf score on test = 0.502127659574468\n"
     ]
    }
   ],
   "source": [
    "evaluate_on_test('models/LSTM_55.81_number_of_output_classes_2_method_fixed_length_2d_L_30_size_256_num_layers_2_dropout_0.2_prediction_method_max_equalize_training_classes_True_learnig_rate_0.001.model',                 \n",
    "                 dataset=binary_dataset,\n",
    "                 size=256,\n",
    "                 num_layers=2,\n",
    "                 dropout=0.2,\n",
    "                 L=30,\n",
    "                 prediction_method='max',\n",
    "                 method='fixed_length_2d',\n",
    "                 number_of_output_classes=2)"
   ]
  },
  {
   "cell_type": "code",
   "execution_count": 25,
   "id": "1826fe62",
   "metadata": {},
   "outputs": [
    {
     "name": "stdout",
     "output_type": "stream",
     "text": [
      " balancedf score on test = 0.5874587458745875\n"
     ]
    }
   ],
   "source": [
    "evaluate_on_test('models/LSTM_54.09_number_of_output_classes_2_method_fixed_length_2d_L_30_size_128_num_layers_2_dropout_0.5_prediction_method_sum_equalize_training_classes_True_learnig_rate_0.0001.model',                 \n",
    "                 dataset=binary_dataset,\n",
    "                 size=128,\n",
    "                 num_layers=2,\n",
    "                 dropout=0.5,\n",
    "                 L=30,\n",
    "                 prediction_method='sum',\n",
    "                 method='fixed_length_2d',\n",
    "                 number_of_output_classes=2)"
   ]
  },
  {
   "cell_type": "code",
   "execution_count": 5,
   "id": "a5c45977",
   "metadata": {},
   "outputs": [
    {
     "name": "stdout",
     "output_type": "stream",
     "text": [
      " balancedf score on test = 0.592885375494071\n"
     ]
    }
   ],
   "source": [
    "evaluate_on_test('models/LSTM_56.50_number_of_output_classes_2_method_fixed_length_2d_L_30_size_128_num_layers_2_dropout_0.5_prediction_method_sum_equalize_training_classes_True_learnig_rate_0.001.model',                 \n",
    "                 dataset=binary_dataset,\n",
    "                 size=128,\n",
    "                 num_layers=2,\n",
    "                 dropout=0.5,\n",
    "                 L=30,\n",
    "                 prediction_method='sum',\n",
    "                 method='fixed_length_2d',\n",
    "                 number_of_output_classes=2)"
   ]
  },
  {
   "attachments": {},
   "cell_type": "markdown",
   "id": "be00785b",
   "metadata": {},
   "source": [
    "## Hyperparameters turning of LSTM on binary problem"
   ]
  },
  {
   "attachments": {},
   "cell_type": "markdown",
   "id": "a4724f59",
   "metadata": {},
   "source": [
    "### First tryouts based on best models from the binary problem"
   ]
  },
  {
   "cell_type": "code",
   "execution_count": null,
   "id": "92b9c9bf",
   "metadata": {},
   "outputs": [],
   "source": [
    "test(dataset=ternary_dataset, \n",
    "     epochs=5,\n",
    "     method='fixed_length_2d', \n",
    "     L=30, \n",
    "     size=128,\n",
    "     num_layers=2, \n",
    "     dropout=0.5, \n",
    "     prediction_method='sum',\n",
    "     equalize_training_classes=True, \n",
    "     learning_rate=0.0001, \n",
    "     number_of_output_classes=3)"
   ]
  },
  {
   "cell_type": "code",
   "execution_count": null,
   "id": "da25882b",
   "metadata": {},
   "outputs": [],
   "source": [
    "test(dataset=ternary_dataset, \n",
    "     epochs=5,\n",
    "     method='fixed_length_2d', \n",
    "     L=30, \n",
    "     size=256,\n",
    "     num_layers=3, \n",
    "     dropout=0.2, \n",
    "     prediction_method='sum',\n",
    "     equalize_training_classes=True, \n",
    "     learning_rate=0.0001, \n",
    "     number_of_output_classes=3)"
   ]
  },
  {
   "cell_type": "code",
   "execution_count": null,
   "id": "6a8e956b",
   "metadata": {},
   "outputs": [],
   "source": [
    "test(dataset=ternary_dataset, \n",
    "     epochs=5,\n",
    "     method='fixed_length_2d', \n",
    "     L=30, \n",
    "     size=512,\n",
    "     num_layers=3, \n",
    "     dropout=0.2, \n",
    "     prediction_method='max',\n",
    "     equalize_training_classes=True, \n",
    "     learning_rate=0.0001, \n",
    "     number_of_output_classes=3)"
   ]
  },
  {
   "cell_type": "code",
   "execution_count": null,
   "id": "f3c0a75d",
   "metadata": {},
   "outputs": [],
   "source": [
    "test(dataset=ternary_dataset, \n",
    "     epochs=5,\n",
    "     method='fixed_length_2d', \n",
    "     L=30, \n",
    "     size=256,\n",
    "     num_layers=3, \n",
    "     dropout=0.2, \n",
    "     prediction_method='last',\n",
    "     equalize_training_classes=True, \n",
    "     learning_rate=0.0001, \n",
    "     number_of_output_classes=3)"
   ]
  },
  {
   "attachments": {},
   "cell_type": "markdown",
   "id": "bf74273f",
   "metadata": {},
   "source": [
    "### Evaluation of the best LSTM model on binary problem"
   ]
  },
  {
   "cell_type": "code",
   "execution_count": null,
   "id": "b4f97c87",
   "metadata": {},
   "outputs": [],
   "source": []
  }
 ],
 "metadata": {
  "kernelspec": {
   "display_name": "Python 3 (ipykernel)",
   "language": "python",
   "name": "python3"
  },
  "language_info": {
   "codemirror_mode": {
    "name": "ipython",
    "version": 3
   },
   "file_extension": ".py",
   "mimetype": "text/x-python",
   "name": "python",
   "nbconvert_exporter": "python",
   "pygments_lexer": "ipython3",
   "version": "3.8.10"
  }
 },
 "nbformat": 4,
 "nbformat_minor": 5
}

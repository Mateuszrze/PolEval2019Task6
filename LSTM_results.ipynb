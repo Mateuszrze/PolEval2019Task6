{
 "cells": [
  {
   "cell_type": "code",
   "execution_count": 6,
   "id": "183d3988",
   "metadata": {},
   "outputs": [],
   "source": [
    "from data_reader import DataReader\n",
    "import datasets\n",
    "from tweet_to_vec import TweetToVec\n",
    "import utils\n",
    "from LSTM import LSTMModel\n",
    "\n",
    "import torch\n",
    "from tqdm import tqdm\n",
    "import numpy as np\n",
    "from torch import nn, optim\n",
    "import torch\n",
    "import torch.nn as nn\n",
    "import torch.optim as optim"
   ]
  },
  {
   "cell_type": "code",
   "execution_count": 7,
   "id": "e161fe66",
   "metadata": {},
   "outputs": [],
   "source": [
    "def test(method, L, size, num_layers, dropout, prediction_method):\n",
    "    batch_size = 32\n",
    "    dr = DataReader('nlkt')\n",
    "    dr.read_dataset(datasets.binary_classes)\n",
    "    embeddings = dr.read_embeddings('embeddings/kraby.txt')\n",
    "    t2v = TweetToVec(embeddings, method, L)\n",
    "    vectorized_binary = t2v.vectorize_dataset(utils.equalize_training_classes(dr.get_dataset('binary')))\n",
    "    model = LSTMModel(size=size, embedding_dim=100,num_layers=num_layers, dropout=dropout, number_of_output_classes=2, L=L, prediction_method=prediction_method)\n",
    "    def gen_batched():\n",
    "        batched_dataset = t2v.batch_dataset(vectorized_binary, batch_size, True, True)\n",
    "        return batched_dataset['training tweets'], batched_dataset['training tags']\n",
    "    for i in range(10):\n",
    "        model.train(gen_batched, 1, 0.0001)\n",
    "        binary_predictions = model.predict(t2v.batch_dataset(vectorized_binary, batch_size, True, False)['test tweets'])\n",
    "        utils.save_results(binary_predictions, 'results/binary_LSTM.txt')\n",
    "        !perl graders/evaluate1.pl results/binary_LSTM.txt"
   ]
  },
  {
   "cell_type": "code",
   "execution_count": 8,
   "id": "fd66880d",
   "metadata": {},
   "outputs": [
    {
     "name": "stderr",
     "output_type": "stream",
     "text": [
      "100%|██████████| 10041/10041 [00:01<00:00, 5493.65it/s]\n",
      "100%|██████████| 10041/10041 [00:00<00:00, 2718149.38it/s]\n",
      "100%|██████████| 1000/1000 [00:00<00:00, 5571.48it/s]\n",
      "100%|██████████| 1000/1000 [00:00<00:00, 1802451.22it/s]\n",
      "100%|██████████| 20067/20067 [00:00<00:00, 33476.93it/s]\n"
     ]
    },
    {
     "name": "stdout",
     "output_type": "stream",
     "text": [
      "After epoch 0 tot_loss = 318.10009765625\n",
      "Precision = 41.07%\n",
      "Recall = 68.66%\n",
      "Balanced F-score = 51.40%\n",
      "Accuracy = 82.60%\n",
      "After epoch 0 tot_loss = 243.5016632080078\n"
     ]
    },
    {
     "name": "stderr",
     "output_type": "stream",
     "text": [
      "Exception ignored in: <function _releaseLock at 0x7f37a4247430>\n",
      "Traceback (most recent call last):\n",
      "  File \"/usr/lib/python3.8/logging/__init__.py\", line 227, in _releaseLock\n",
      "    def _releaseLock():\n",
      "KeyboardInterrupt: \n"
     ]
    },
    {
     "name": "stdout",
     "output_type": "stream",
     "text": [
      "Precision = 45.00%\n",
      "Recall = 67.16%\n",
      "Balanced F-score = 53.89%\n",
      "Accuracy = 84.60%\n"
     ]
    }
   ],
   "source": [
    "test(method='fixed_length_2d', L=30, size=256, num_layers=2, dropout=0.2, prediction_method='sum')"
   ]
  },
  {
   "cell_type": "code",
   "execution_count": null,
   "id": "ad742288",
   "metadata": {},
   "outputs": [],
   "source": [
    "test(method='fixed_length_2d', L=30, size=256, num_layers=2, dropout=0.5, prediction_method='sum')"
   ]
  },
  {
   "cell_type": "code",
   "execution_count": null,
   "id": "4294dad6",
   "metadata": {},
   "outputs": [],
   "source": [
    "test(method='fixed_length_2d', L=30, size=256, num_layers=2, dropout=0.9, prediction_method='sum')"
   ]
  },
  {
   "cell_type": "code",
   "execution_count": null,
   "id": "3052eced",
   "metadata": {},
   "outputs": [],
   "source": [
    "test(method='fixed_length_2d', L=20, size=256, num_layers=2, dropout=0.2, prediction_method='sum')"
   ]
  },
  {
   "cell_type": "code",
   "execution_count": null,
   "id": "9ca451ca",
   "metadata": {},
   "outputs": [],
   "source": [
    "test(method='fixed_length_2d', L=12, size=256, num_layers=2, dropout=0.2, prediction_method='sum')"
   ]
  },
  {
   "cell_type": "code",
   "execution_count": null,
   "id": "bec195ad",
   "metadata": {},
   "outputs": [],
   "source": [
    "test(method='fixed_length_2d', L=30, size=128, num_layers=2, dropout=0.2, prediction_method='sum')"
   ]
  },
  {
   "cell_type": "code",
   "execution_count": null,
   "id": "4a71f680",
   "metadata": {},
   "outputs": [],
   "source": [
    "test(method='fixed_length_2d', L=30, size=256, num_layers=3, dropout=0.2, prediction_method='sum')"
   ]
  },
  {
   "cell_type": "code",
   "execution_count": null,
   "id": "6b167591",
   "metadata": {},
   "outputs": [],
   "source": [
    "test(method='fixed_length_2d', L=30, size=256, num_layers=2, dropout=0.2, prediction_method='max')"
   ]
  },
  {
   "cell_type": "code",
   "execution_count": null,
   "id": "d121a715",
   "metadata": {},
   "outputs": [],
   "source": [
    "test(method='fixed_length_2d', L=30, size=256, num_layers=2, dropout=0.2, prediction_method='last')"
   ]
  },
  {
   "cell_type": "code",
   "execution_count": null,
   "id": "8ebbf8bd",
   "metadata": {},
   "outputs": [],
   "source": [
    "test(method='fixed_length_2d', L=30, size=128, num_layers=3, dropout=0.2, prediction_method='sum')"
   ]
  }
 ],
 "metadata": {
  "kernelspec": {
   "display_name": "Python 3 (ipykernel)",
   "language": "python",
   "name": "python3"
  },
  "language_info": {
   "codemirror_mode": {
    "name": "ipython",
    "version": 3
   },
   "file_extension": ".py",
   "mimetype": "text/x-python",
   "name": "python",
   "nbconvert_exporter": "python",
   "pygments_lexer": "ipython3",
   "version": "3.8.10"
  }
 },
 "nbformat": 4,
 "nbformat_minor": 5
}

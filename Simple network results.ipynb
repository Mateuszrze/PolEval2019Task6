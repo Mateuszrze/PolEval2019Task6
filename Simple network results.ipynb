{
 "cells": [
  {
   "cell_type": "code",
   "execution_count": 1,
   "id": "ae3c0836",
   "metadata": {},
   "outputs": [],
   "source": [
    "from data_reader import DataReader\n",
    "import datasets\n",
    "from tweet_to_vec import TweetToVec\n",
    "import utils"
   ]
  },
  {
   "cell_type": "code",
   "execution_count": 2,
   "id": "2f6f9964",
   "metadata": {},
   "outputs": [
    {
     "name": "stderr",
     "output_type": "stream",
     "text": [
      "100%|██████████████████████████████████| 10041/10041 [00:00<00:00, 10980.57it/s]\n",
      "100%|████████████████████████████████| 10041/10041 [00:00<00:00, 2427517.81it/s]\n",
      "100%|████████████████████████████████████| 1000/1000 [00:00<00:00, 10457.26it/s]\n",
      "100%|██████████████████████████████████| 1000/1000 [00:00<00:00, 3421128.87it/s]\n",
      "100%|██████████████████████████████████| 10041/10041 [00:00<00:00, 11175.63it/s]\n",
      "100%|████████████████████████████████| 10041/10041 [00:00<00:00, 4080120.76it/s]\n",
      "100%|████████████████████████████████████| 1000/1000 [00:00<00:00, 10945.21it/s]\n",
      "100%|██████████████████████████████████| 1000/1000 [00:00<00:00, 1753471.57it/s]\n"
     ]
    }
   ],
   "source": [
    "dr = DataReader('nlkt')\n",
    "\n",
    "dr.read_dataset(datasets.binary_classes)\n",
    "dr.read_dataset(datasets.ternary_classes)\n",
    "\n"
   ]
  },
  {
   "cell_type": "code",
   "execution_count": 3,
   "id": "92837a16",
   "metadata": {},
   "outputs": [
    {
     "name": "stderr",
     "output_type": "stream",
     "text": [
      "100%|██████████████████████████████████| 20067/20067 [00:00<00:00, 59367.93it/s]\n"
     ]
    }
   ],
   "source": [
    "embeddings = dr.read_embeddings('embeddings/kraby.txt')\n",
    "method = 'fixed_length'\n",
    "L = 8\n",
    "\n",
    "t2v = TweetToVec(embeddings, method, L)"
   ]
  },
  {
   "cell_type": "code",
   "execution_count": 4,
   "id": "00501520",
   "metadata": {},
   "outputs": [],
   "source": [
    "batch_size = 32\n",
    "\n",
    "binary_dataset = dr.get_dataset('binary')\n",
    "ternary_dataset = dr.get_dataset('ternary')\n",
    "\n",
    "vectorized_binary = t2v.vectorize_dataset(binary_dataset)\n",
    "vectorized_ternary = t2v.vectorize_dataset(ternary_dataset)\n",
    "\n",
    "batched_binary = t2v.batch_dataset(vectorized_binary, batch_size)\n",
    "batched_ternary = t2v.batch_dataset(vectorized_ternary, batch_size)"
   ]
  },
  {
   "cell_type": "code",
   "execution_count": 5,
   "id": "7fc08ecc",
   "metadata": {},
   "outputs": [],
   "source": [
    "from simple_network import SimpleNetwork"
   ]
  },
  {
   "cell_type": "code",
   "execution_count": 6,
   "id": "1758067a",
   "metadata": {},
   "outputs": [],
   "source": [
    "import torch\n",
    "import torch.nn as nn\n",
    "import torch.optim as optim\n",
    "\n",
    "simple_model = nn.Sequential(\n",
    "                nn.Linear(800, 2))\n",
    "\n",
    "ce_loss = torch.nn.functional.cross_entropy\n",
    "\n",
    "def my_optimizer_sgd(model_parameters):\n",
    "    return optim.SGD(model_parameters, lr = 0.001, momentum = 0.9)"
   ]
  },
  {
   "cell_type": "code",
   "execution_count": 7,
   "id": "b5e84c7c",
   "metadata": {},
   "outputs": [
    {
     "name": "stdout",
     "output_type": "stream",
     "text": [
      "After epoch 0 tot_loss = 100.42084503173828\n",
      "After epoch 1 tot_loss = 80.03201293945312\n",
      "After epoch 2 tot_loss = 75.88964080810547\n",
      "After epoch 3 tot_loss = 73.803955078125\n",
      "After epoch 4 tot_loss = 72.49606323242188\n",
      "After epoch 5 tot_loss = 70.96530151367188\n",
      "After epoch 6 tot_loss = 70.20743560791016\n",
      "After epoch 7 tot_loss = 69.67229461669922\n",
      "After epoch 8 tot_loss = 69.2419204711914\n",
      "After epoch 9 tot_loss = 68.88249969482422\n",
      "After epoch 10 tot_loss = 68.06693267822266\n",
      "After epoch 11 tot_loss = 67.69448852539062\n",
      "After epoch 12 tot_loss = 67.44424438476562\n",
      "After epoch 13 tot_loss = 67.23172760009766\n",
      "After epoch 14 tot_loss = 67.0438003540039\n",
      "After epoch 15 tot_loss = 66.44403839111328\n",
      "After epoch 16 tot_loss = 66.18143463134766\n",
      "After epoch 17 tot_loss = 66.02074432373047\n",
      "After epoch 18 tot_loss = 65.8832778930664\n",
      "After epoch 19 tot_loss = 65.75975036621094\n",
      "After epoch 20 tot_loss = 65.2766342163086\n",
      "After epoch 21 tot_loss = 65.06971740722656\n",
      "After epoch 22 tot_loss = 64.95272827148438\n",
      "After epoch 23 tot_loss = 64.85286712646484\n",
      "After epoch 24 tot_loss = 64.76264953613281\n",
      "After epoch 25 tot_loss = 64.35967254638672\n",
      "After epoch 26 tot_loss = 64.19132232666016\n",
      "After epoch 27 tot_loss = 64.10118865966797\n",
      "After epoch 28 tot_loss = 64.02436065673828\n",
      "After epoch 29 tot_loss = 63.95484161376953\n",
      "After epoch 30 tot_loss = 63.61270523071289\n",
      "After epoch 31 tot_loss = 63.476341247558594\n",
      "After epoch 32 tot_loss = 63.40475082397461\n",
      "After epoch 33 tot_loss = 63.343650817871094\n",
      "After epoch 34 tot_loss = 63.28822326660156\n",
      "After epoch 35 tot_loss = 62.99433517456055\n",
      "After epoch 36 tot_loss = 62.88700485229492\n",
      "After epoch 37 tot_loss = 62.828880310058594\n",
      "After epoch 38 tot_loss = 62.77907943725586\n",
      "After epoch 39 tot_loss = 62.73387145996094\n",
      "After epoch 40 tot_loss = 62.47939682006836\n",
      "After epoch 41 tot_loss = 62.39891052246094\n",
      "After epoch 42 tot_loss = 62.350669860839844\n",
      "After epoch 43 tot_loss = 62.30925369262695\n",
      "After epoch 44 tot_loss = 62.27161407470703\n",
      "After epoch 45 tot_loss = 62.05081558227539\n",
      "After epoch 46 tot_loss = 61.994022369384766\n",
      "After epoch 47 tot_loss = 61.95308303833008\n",
      "After epoch 48 tot_loss = 61.917945861816406\n",
      "After epoch 49 tot_loss = 61.88596725463867\n"
     ]
    }
   ],
   "source": [
    "network = SimpleNetwork(simple_model, ce_loss)\n",
    "network.train(batched_binary['training tweets'], batched_binary['training tags'], 50, my_optimizer_sgd)"
   ]
  },
  {
   "cell_type": "code",
   "execution_count": 8,
   "id": "e17d6db2",
   "metadata": {},
   "outputs": [],
   "source": [
    "binary_predictions = network.predict(batched_binary['test tweets'])"
   ]
  },
  {
   "cell_type": "code",
   "execution_count": 9,
   "id": "3520ab0a",
   "metadata": {},
   "outputs": [],
   "source": [
    "utils.save_results(binary_predictions, 'results/binary_simple_network.txt')"
   ]
  },
  {
   "cell_type": "code",
   "execution_count": 10,
   "id": "6b771826",
   "metadata": {},
   "outputs": [
    {
     "name": "stdout",
     "output_type": "stream",
     "text": [
      "Precision = 41.58%\r\n",
      "Recall = 31.34%\r\n",
      "Balanced F-score = 35.74%\r\n",
      "Accuracy = 84.90%\r\n"
     ]
    }
   ],
   "source": [
    "!perl graders/evaluate1.pl results/binary_simple_network.txt"
   ]
  }
 ],
 "metadata": {
  "kernelspec": {
   "display_name": "Python 3 (ipykernel)",
   "language": "python",
   "name": "python3"
  },
  "language_info": {
   "codemirror_mode": {
    "name": "ipython",
    "version": 3
   },
   "file_extension": ".py",
   "mimetype": "text/x-python",
   "name": "python",
   "nbconvert_exporter": "python",
   "pygments_lexer": "ipython3",
   "version": "3.8.10"
  }
 },
 "nbformat": 4,
 "nbformat_minor": 5
}

{
 "cells": [
  {
   "cell_type": "code",
   "execution_count": 1,
   "id": "183d3988",
   "metadata": {},
   "outputs": [],
   "source": [
    "from data_reader import DataReader\n",
    "import datasets\n",
    "from tweet_to_vec import TweetToVec\n",
    "import utils"
   ]
  },
  {
   "cell_type": "code",
   "execution_count": 2,
   "id": "e4ee8060",
   "metadata": {},
   "outputs": [
    {
     "name": "stderr",
     "output_type": "stream",
     "text": [
      "100%|██████████████████████████████████| 10041/10041 [00:00<00:00, 11464.96it/s]\n",
      "100%|████████████████████████████████| 10041/10041 [00:00<00:00, 3242109.81it/s]\n",
      "100%|████████████████████████████████████| 1000/1000 [00:00<00:00, 11016.54it/s]\n",
      "100%|██████████████████████████████████| 1000/1000 [00:00<00:00, 1844460.86it/s]\n",
      "100%|██████████████████████████████████| 10041/10041 [00:00<00:00, 10916.32it/s]\n",
      "100%|████████████████████████████████| 10041/10041 [00:00<00:00, 2918775.14it/s]\n",
      "100%|████████████████████████████████████| 1000/1000 [00:00<00:00, 10742.67it/s]\n",
      "100%|██████████████████████████████████| 1000/1000 [00:00<00:00, 3711773.45it/s]\n"
     ]
    }
   ],
   "source": [
    "dr = DataReader('nlkt')\n",
    "\n",
    "dr.read_dataset(datasets.binary_classes)\n",
    "dr.read_dataset(datasets.ternary_classes)\n",
    "\n"
   ]
  },
  {
   "cell_type": "code",
   "execution_count": 3,
   "id": "e161fe66",
   "metadata": {},
   "outputs": [
    {
     "name": "stderr",
     "output_type": "stream",
     "text": [
      "100%|██████████████████████████████████| 20067/20067 [00:00<00:00, 60998.56it/s]\n"
     ]
    }
   ],
   "source": [
    "embeddings = dr.read_embeddings('embeddings/kraby.txt')\n",
    "method = 'fixed_length'\n",
    "L = 12\n",
    "\n",
    "t2v = TweetToVec(embeddings, method, L)"
   ]
  },
  {
   "cell_type": "code",
   "execution_count": 4,
   "id": "78283e8a",
   "metadata": {},
   "outputs": [],
   "source": [
    "batch_size = 32\n",
    "\n",
    "binary_dataset = dr.get_dataset('binary')\n",
    "ternary_dataset = dr.get_dataset('ternary')\n",
    "\n",
    "vectorized_binary = t2v.vectorize_dataset(binary_dataset)\n",
    "vectorized_ternary = t2v.vectorize_dataset(ternary_dataset)\n",
    "\n",
    "batched_binary = t2v.batch_dataset(vectorized_binary, batch_size)\n",
    "batched_ternary = t2v.batch_dataset(vectorized_ternary, batch_size)"
   ]
  },
  {
   "cell_type": "code",
   "execution_count": 5,
   "id": "7fc08ecc",
   "metadata": {},
   "outputs": [],
   "source": [
    "from simple_network import SimpleNetwork"
   ]
  },
  {
   "cell_type": "code",
   "execution_count": 6,
   "id": "1758067a",
   "metadata": {},
   "outputs": [],
   "source": [
    "import torch\n",
    "import torch.nn as nn\n",
    "import torch.optim as optim\n",
    "\n",
    "simple_model = nn.Sequential(\n",
    "                nn.Linear(1200, 512),\n",
    "                nn.ReLU(),\n",
    "                nn.Linear(512, 256),\n",
    "                nn.ReLU(),\n",
    "                nn.Linear(256, 512),\n",
    "                nn.ReLU(),\n",
    "                nn.Linear(512, 2))\n",
    "\n",
    "ce_loss = torch.nn.functional.cross_entropy\n",
    "\n",
    "def my_optimizer_sgd(model_parameters):\n",
    "    return optim.SGD(model_parameters, lr = 0.001, momentum = 0.9)"
   ]
  },
  {
   "cell_type": "code",
   "execution_count": 7,
   "id": "b5e84c7c",
   "metadata": {},
   "outputs": [
    {
     "name": "stdout",
     "output_type": "stream",
     "text": [
      "After epoch 0 tot_loss = 96.83110809326172\n",
      "After epoch 1 tot_loss = 85.69334411621094\n",
      "After epoch 2 tot_loss = 79.9252700805664\n",
      "After epoch 3 tot_loss = 73.58946990966797\n",
      "After epoch 4 tot_loss = 66.43695831298828\n",
      "After epoch 5 tot_loss = 58.78273391723633\n",
      "After epoch 6 tot_loss = 50.78483200073242\n",
      "After epoch 7 tot_loss = 42.92909622192383\n",
      "After epoch 8 tot_loss = 34.87005615234375\n",
      "After epoch 9 tot_loss = 27.406208038330078\n",
      "After epoch 10 tot_loss = 20.51115608215332\n",
      "After epoch 11 tot_loss = 15.039844512939453\n",
      "After epoch 12 tot_loss = 10.889418601989746\n",
      "After epoch 13 tot_loss = 8.036567687988281\n",
      "After epoch 14 tot_loss = 6.148322582244873\n",
      "After epoch 15 tot_loss = 4.833540439605713\n",
      "After epoch 16 tot_loss = 3.94535756111145\n",
      "After epoch 17 tot_loss = 3.2826082706451416\n",
      "After epoch 18 tot_loss = 2.8556222915649414\n",
      "After epoch 19 tot_loss = 2.5095582008361816\n"
     ]
    }
   ],
   "source": [
    "network = SimpleNetwork(simple_model, ce_loss)\n",
    "network.train(batched_binary['training tweets'], batched_binary['training tags'], 20, my_optimizer_sgd)"
   ]
  },
  {
   "cell_type": "code",
   "execution_count": 8,
   "id": "2b3e1c91",
   "metadata": {},
   "outputs": [],
   "source": [
    "binary_predictions = network.predict(batched_binary['test tweets'])\n",
    "utils.save_results(binary_predictions, 'results/binary_simple_network.txt')"
   ]
  },
  {
   "cell_type": "code",
   "execution_count": 9,
   "id": "70cb2073",
   "metadata": {},
   "outputs": [
    {
     "name": "stdout",
     "output_type": "stream",
     "text": [
      "Precision = 41.67%\r\n",
      "Recall = 37.31%\r\n",
      "Balanced F-score = 39.37%\r\n",
      "Accuracy = 84.60%\r\n"
     ]
    }
   ],
   "source": [
    "!perl graders/evaluate1.pl results/binary_simple_network.txt"
   ]
  },
  {
   "cell_type": "code",
   "execution_count": 35,
   "id": "01b3a265",
   "metadata": {},
   "outputs": [
    {
     "name": "stdout",
     "output_type": "stream",
     "text": [
      "After epoch 0 tot_loss = 120.25999450683594\n",
      "After epoch 1 tot_loss = 101.39816284179688\n",
      "After epoch 2 tot_loss = 94.51297760009766\n",
      "After epoch 3 tot_loss = 87.89990234375\n",
      "After epoch 4 tot_loss = 81.0728988647461\n",
      "After epoch 5 tot_loss = 74.15080261230469\n",
      "After epoch 6 tot_loss = 66.83546447753906\n",
      "After epoch 7 tot_loss = 59.522762298583984\n",
      "After epoch 8 tot_loss = 51.969539642333984\n",
      "After epoch 9 tot_loss = 44.788692474365234\n",
      "After epoch 10 tot_loss = 37.91055679321289\n",
      "After epoch 11 tot_loss = 32.117454528808594\n",
      "After epoch 12 tot_loss = 27.287281036376953\n",
      "After epoch 13 tot_loss = 23.647613525390625\n",
      "After epoch 14 tot_loss = 20.8614501953125\n",
      "After epoch 15 tot_loss = 18.774599075317383\n",
      "After epoch 16 tot_loss = 17.155044555664062\n",
      "After epoch 17 tot_loss = 15.850600242614746\n",
      "After epoch 18 tot_loss = 14.792484283447266\n",
      "After epoch 19 tot_loss = 13.864879608154297\n",
      "After epoch 20 tot_loss = 13.072214126586914\n",
      "After epoch 21 tot_loss = 12.316146850585938\n",
      "After epoch 22 tot_loss = 11.654141426086426\n",
      "After epoch 23 tot_loss = 11.005735397338867\n",
      "After epoch 24 tot_loss = 10.43271541595459\n",
      "After epoch 25 tot_loss = 9.868733406066895\n",
      "After epoch 26 tot_loss = 9.36656665802002\n",
      "After epoch 27 tot_loss = 8.879006385803223\n",
      "After epoch 28 tot_loss = 8.442115783691406\n",
      "After epoch 29 tot_loss = 8.026045799255371\n",
      "After epoch 30 tot_loss = 7.650104999542236\n",
      "After epoch 31 tot_loss = 7.300314426422119\n",
      "After epoch 32 tot_loss = 6.98071813583374\n",
      "After epoch 33 tot_loss = 6.685732841491699\n",
      "After epoch 34 tot_loss = 6.414792060852051\n",
      "After epoch 35 tot_loss = 6.166093826293945\n",
      "After epoch 36 tot_loss = 5.935596466064453\n",
      "After epoch 37 tot_loss = 5.7256388664245605\n",
      "After epoch 38 tot_loss = 5.529715061187744\n",
      "After epoch 39 tot_loss = 5.352349281311035\n",
      "After epoch 40 tot_loss = 5.185604095458984\n",
      "After epoch 41 tot_loss = 5.036044120788574\n",
      "After epoch 42 tot_loss = 4.894154071807861\n",
      "After epoch 43 tot_loss = 4.766798973083496\n",
      "After epoch 44 tot_loss = 4.646060466766357\n",
      "After epoch 45 tot_loss = 4.537681579589844\n",
      "After epoch 46 tot_loss = 4.434182167053223\n",
      "After epoch 47 tot_loss = 4.341882705688477\n",
      "After epoch 48 tot_loss = 4.2530927658081055\n",
      "After epoch 49 tot_loss = 4.173880100250244\n",
      "After epoch 50 tot_loss = 4.09744930267334\n",
      "After epoch 51 tot_loss = 4.029346942901611\n",
      "After epoch 52 tot_loss = 3.962881565093994\n",
      "After epoch 53 tot_loss = 3.904111623764038\n",
      "After epoch 54 tot_loss = 3.846665620803833\n",
      "After epoch 55 tot_loss = 3.7956175804138184\n",
      "After epoch 56 tot_loss = 3.745551824569702\n",
      "After epoch 57 tot_loss = 3.70104718208313\n",
      "After epoch 58 tot_loss = 3.657306432723999\n",
      "After epoch 59 tot_loss = 3.6185035705566406\n",
      "After epoch 60 tot_loss = 3.580143690109253\n",
      "After epoch 61 tot_loss = 3.5460755825042725\n",
      "After epoch 62 tot_loss = 3.512510061264038\n",
      "After epoch 63 tot_loss = 3.482530355453491\n",
      "After epoch 64 tot_loss = 3.452873468399048\n",
      "After epoch 65 tot_loss = 3.426527976989746\n",
      "After epoch 66 tot_loss = 3.4003655910491943\n",
      "After epoch 67 tot_loss = 3.3771378993988037\n",
      "After epoch 68 tot_loss = 3.353966474533081\n",
      "After epoch 69 tot_loss = 3.333434820175171\n"
     ]
    }
   ],
   "source": [
    "simple_model2 = nn.Sequential(\n",
    "                nn.Linear(1200, 512),\n",
    "                nn.ReLU(),\n",
    "                nn.Linear(512, 256),\n",
    "                nn.ReLU(),\n",
    "                nn.Linear(256, 512),\n",
    "                nn.ReLU(),\n",
    "                nn.Linear(512, 3))\n",
    "\n",
    "network2 = SimpleNetwork(simple_model2, ce_loss)\n",
    "network2.train(batched_ternary['training tweets'], batched_ternary['training tags'], 70, my_optimizer_sgd)"
   ]
  },
  {
   "cell_type": "code",
   "execution_count": 36,
   "id": "e17d6db2",
   "metadata": {},
   "outputs": [],
   "source": [
    "ternary_predictions = network2.predict(batched_ternary['test tweets'])\n",
    "utils.save_results(ternary_predictions, 'results/ternary_simple_network.txt')"
   ]
  },
  {
   "cell_type": "code",
   "execution_count": 37,
   "id": "57d8bb78",
   "metadata": {},
   "outputs": [
    {
     "name": "stdout",
     "output_type": "stream",
     "text": [
      "Micro-Average F-score = 86.80%\r\n",
      "Macro-Average F-score = 46.37%\r\n"
     ]
    }
   ],
   "source": [
    "!perl graders/evaluate2.pl results/ternary_simple_network.txt"
   ]
  },
  {
   "cell_type": "code",
   "execution_count": null,
   "id": "d50d053e",
   "metadata": {},
   "outputs": [],
   "source": []
  }
 ],
 "metadata": {
  "kernelspec": {
   "display_name": "Python 3 (ipykernel)",
   "language": "python",
   "name": "python3"
  },
  "language_info": {
   "codemirror_mode": {
    "name": "ipython",
    "version": 3
   },
   "file_extension": ".py",
   "mimetype": "text/x-python",
   "name": "python",
   "nbconvert_exporter": "python",
   "pygments_lexer": "ipython3",
   "version": "3.8.10"
  }
 },
 "nbformat": 4,
 "nbformat_minor": 5
}

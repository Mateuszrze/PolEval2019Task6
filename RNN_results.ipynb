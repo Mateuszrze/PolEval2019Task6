{
 "cells": [
  {
   "cell_type": "code",
   "execution_count": 1,
   "id": "183d3988",
   "metadata": {},
   "outputs": [],
   "source": [
    "from data_reader import DataReader\n",
    "import datasets\n",
    "from tweet_to_vec import TweetToVec\n",
    "import utils\n",
    "from RNN import RNNModel\n",
    "from evaluate import evaluate1\n",
    "from evaluate import evaluate2\n",
    "import os\n",
    "import matplotlib.pyplot as plt\n",
    "\n",
    "import torch\n",
    "from tqdm import tqdm\n",
    "import numpy as np\n",
    "from torch import nn, optim\n",
    "import torch.nn as nn"
   ]
  },
  {
   "cell_type": "code",
   "execution_count": 2,
   "id": "a1335402",
   "metadata": {},
   "outputs": [],
   "source": [
    "dr = DataReader('nlkt')\n",
    "dr.read_dataset(datasets.binary_classes, False)\n",
    "dr.read_dataset(datasets.ternary_classes, False)\n",
    "embeddings = dr.read_embeddings('embeddings/kraby.txt', False)\n",
    "\n",
    "binary_dataset = dr.get_dataset('binary')\n",
    "binary_dataset = utils.extract_validation_from_training(binary_dataset)\n",
    "\n",
    "ternary_dataset = dr.get_dataset('ternary')\n",
    "ternary_dataset = utils.extract_validation_from_training(ternary_dataset)"
   ]
  },
  {
   "cell_type": "code",
   "execution_count": 6,
   "id": "e161fe66",
   "metadata": {},
   "outputs": [],
   "source": [
    "def test(dataset, epochs, method, L, size, num_layers, prediction_method, equalize_training_classes, learning_rate, number_of_output_classes):\n",
    "    batch_size = 32\n",
    "    t2v = TweetToVec(embeddings, method, L)\n",
    "\n",
    "    if equalize_training_classes:\n",
    "        dataset = utils.equalize_training_classes(dataset)\n",
    "    vectorized_dataset = t2v.vectorize_dataset(dataset)\n",
    "    def gen_batched():\n",
    "        batched_dataset = t2v.batch_dataset(vectorized_dataset, batch_size, True, True)\n",
    "        return batched_dataset['training tweets'], batched_dataset['training tags']\n",
    "\n",
    "    model = RNNModel(size=size, embedding_dim=100,num_layers=num_layers, number_of_output_classes=number_of_output_classes, L=L, prediction_method=prediction_method, learning_rate=learning_rate)\n",
    "\n",
    "    batched = t2v.batch_dataset(vectorized_dataset, batch_size, True, False)\n",
    "    tweets = batched['validation tweets']\n",
    "    tags = batched['validation tags']\n",
    "    current_best_score = 0\n",
    "    best_model_path = \"\"\n",
    "    params_string = f'_number_of_output_classes_{number_of_output_classes}_method_{method}_L_{L}_size_{size}_num_layers_{num_layers}_prediction_method_{prediction_method}_equalize_training_classes_{equalize_training_classes}_learnig_rate_{learning_rate}'\n",
    "    \n",
    "    scores = []\n",
    "\n",
    "    for i in range(epochs):\n",
    "        model.train_model(gen_batched, 1)\n",
    "        model.eval()\n",
    "        predictions = model.predict(tweets)\n",
    "        score = 0\n",
    "        if number_of_output_classes == 2:\n",
    "            score = evaluate1(predictions, tags)['balancedf']\n",
    "            print(\" balancedf score on valid =\", score)\n",
    "        else:\n",
    "            score = evaluate2(predictions, tags)['microAverageFscore']\n",
    "            print(\" microAverageFscore score on valid =\", score)  \n",
    "        scores.append(score)  \n",
    "        if score > current_best_score:\n",
    "            if len(best_model_path) > 0:\n",
    "                os.remove(best_model_path)\n",
    "            current_best_score = score\n",
    "            str_score = str(score * 100)\n",
    "            str_score = str_score[:min(len(str_score), 5)]\n",
    "            best_model_path = 'models/RNN_' + str_score + params_string + '.model'\n",
    "            torch.save(model.state_dict(), best_model_path)\n",
    "    \n",
    "\n",
    "    plt.plot(scores)\n",
    "    plt.ylabel('scores on validation over epochs')\n",
    "    plt.show()\n",
    "    print(\"Best score = \", current_best_score)"
   ]
  },
  {
   "cell_type": "code",
   "execution_count": 7,
   "id": "a03067dd",
   "metadata": {},
   "outputs": [],
   "source": [
    "def evaluate_on_test(filename, dataset, size, num_layers, L, prediction_method, method, number_of_output_classes):\n",
    "    model = RNNModel(size=size, embedding_dim=100,num_layers=num_layers, number_of_output_classes=number_of_output_classes, L=L, prediction_method=prediction_method, learning_rate=0.0001)\n",
    "    model.load_state_dict(torch.load(filename))\n",
    "    model.eval()\n",
    "\n",
    "    t2v = TweetToVec(embeddings, method, L)\n",
    "    \n",
    "    vectorized_dataset = t2v.vectorize_dataset(dataset)\n",
    "\n",
    "    batched = t2v.batch_dataset(vectorized_dataset, 1, True, False)\n",
    "    tweets = batched['test tweets']\n",
    "    tags = batched['test tags']\n",
    "\n",
    "    predictions = model.predict(tweets)\n",
    "    if number_of_output_classes == 2:\n",
    "        score = evaluate1(predictions, tags)['balancedf']\n",
    "        print(\" balancedf score on test =\", score)\n",
    "    else:\n",
    "        score = evaluate2(predictions, tags)['microAverageFscore']\n",
    "        print(\" microAverageFscore score on test =\", score)"
   ]
  },
  {
   "attachments": {},
   "cell_type": "markdown",
   "id": "0fd95eb8",
   "metadata": {},
   "source": [
    "## Hyperparameters turning of LSTM on binary problem"
   ]
  },
  {
   "attachments": {},
   "cell_type": "markdown",
   "id": "e7e2103d",
   "metadata": {},
   "source": [
    "### First round of hyperparameters turning"
   ]
  },
  {
   "cell_type": "code",
   "execution_count": 8,
   "id": "74c4b536",
   "metadata": {},
   "outputs": [
    {
     "name": "stdout",
     "output_type": "stream",
     "text": [
      "After epoch 0 tot_loss = 250.5535888671875 balancedf score on valid = 0.42735042735042733\n",
      "After epoch 1 tot_loss = 211.08714294433594 balancedf score on valid = 0.41530054644808745\n",
      "After epoch 2 tot_loss = 176.8408966064453 balancedf score on valid = 0.4252873563218391\n",
      "After epoch 3 tot_loss = 128.4517059326172 balancedf score on valid = 0.5194805194805195\n",
      "After epoch 4 tot_loss = 90.14448547363281 balancedf score on valid = 0.49612403100775193\n",
      "After epoch 5 tot_loss = 67.5125732421875 balancedf score on valid = 0.43386243386243384\n",
      "After epoch 6 tot_loss = 37.93263244628906 balancedf score on valid = 0.3624161073825503\n",
      "After epoch 7 tot_loss = 30.227291107177734 balancedf score on valid = 0.4025157232704403\n",
      "After epoch 8 tot_loss = 20.279239654541016 balancedf score on valid = 0.46783625730994155\n",
      "After epoch 9 tot_loss = 18.150856018066406 balancedf score on valid = 0.4541062801932367\n",
      "After epoch 10 tot_loss = 16.406517028808594 balancedf score on valid = 0.4623655913978495\n",
      "After epoch 11 tot_loss = 12.12663459777832 balancedf score on valid = 0.4479166666666667\n",
      "After epoch 12 tot_loss = 8.257890701293945 balancedf score on valid = 0.4516129032258065\n",
      "After epoch 13 tot_loss = 7.309711933135986 balancedf score on valid = 0.4390243902439025\n",
      "After epoch 14 tot_loss = 5.726323127746582 balancedf score on valid = 0.4941176470588235\n"
     ]
    },
    {
     "data": {
      "image/png": "[encoded data removed]",
      "text/plain": [
       "<Figure size 432x288 with 1 Axes>"
      ]
     },
     "metadata": {
      "needs_background": "light"
     },
     "output_type": "display_data"
    },
    {
     "name": "stdout",
     "output_type": "stream",
     "text": [
      "Best score =  0.5194805194805195\n"
     ]
    }
   ],
   "source": [
    "test(dataset=binary_dataset, \n",
    "     epochs=15,\n",
    "     method='fixed_length_2d', \n",
    "     L=30, \n",
    "     size=256,\n",
    "     num_layers=3,\n",
    "     prediction_method='sum',\n",
    "     equalize_training_classes=True, \n",
    "     learning_rate=0.0001,\n",
    "     number_of_output_classes=2)"
   ]
  },
  {
   "cell_type": "code",
   "execution_count": 9,
   "id": "28b06080",
   "metadata": {},
   "outputs": [],
   "source": [
    "test(dataset=binary_dataset, \n",
    "     epochs=15,\n",
    "     method='fixed_length_2d', \n",
    "     L=30, \n",
    "     size=512, \n",
    "     num_layers=3,\n",
    "     prediction_method='max',\n",
    "     equalize_training_classes=True, \n",
    "     learning_rate=0.0001,\n",
    "     number_of_output_classes=2)"
   ]
  },
  {
   "cell_type": "code",
   "execution_count": null,
   "id": "41556a72",
   "metadata": {},
   "outputs": [],
   "source": [
    "test(dataset=binary_dataset, \n",
    "     epochs=15,\n",
    "     method='fixed_length_2d', \n",
    "     L=30, \n",
    "     size=128, \n",
    "     num_layers=3,\n",
    "     prediction_method='max',\n",
    "     equalize_training_classes=True, \n",
    "     learning_rate=0.001,\n",
    "     number_of_output_classes=2)"
   ]
  },
  {
   "cell_type": "code",
   "execution_count": null,
   "id": "46a5308a",
   "metadata": {},
   "outputs": [],
   "source": [
    "test(dataset=binary_dataset, \n",
    "     epochs=15,\n",
    "     method='fixed_length_2d', \n",
    "     L=30, \n",
    "     size=256, \n",
    "     num_layers=2,\n",
    "     prediction_method='sum',\n",
    "     equalize_training_classes=True, \n",
    "     learning_rate=0.0001,\n",
    "     number_of_output_classes=2)"
   ]
  },
  {
   "cell_type": "code",
   "execution_count": null,
   "id": "b2e63ce0",
   "metadata": {},
   "outputs": [],
   "source": [
    "test(dataset=binary_dataset, \n",
    "     epochs=15,\n",
    "     method='fixed_length_2d', \n",
    "     L=30, \n",
    "     size=64, \n",
    "     num_layers=3,\n",
    "     prediction_method='sum',\n",
    "     equalize_training_classes=True, \n",
    "     learning_rate=0.0001,\n",
    "     number_of_output_classes=2)"
   ]
  },
  {
   "attachments": {},
   "cell_type": "markdown",
   "id": "ef5cbdfd",
   "metadata": {},
   "source": [
    "### Second iterations round (small changed of the best from the previous round)"
   ]
  },
  {
   "attachments": {},
   "cell_type": "markdown",
   "id": "f8335b50",
   "metadata": {},
   "source": [
    "### Evaluation of the best LSTM model on binary problem"
   ]
  },
  {
   "cell_type": "code",
   "execution_count": null,
   "id": "1826fe62",
   "metadata": {},
   "outputs": [],
   "source": [
    "evaluate_on_test('models/LSTM_54.09_number_of_output_classes_2_method_fixed_length_2d_L_30_size_128_num_layers_2_dropout_0.5_prediction_method_sum_equalize_training_classes_True_learnig_rate_0.0001.model',                 \n",
    "                 dataset=binary_dataset,\n",
    "                 size=128,\n",
    "                 num_layers=2,\n",
    "                 dropout=0.5,\n",
    "                 L=30,\n",
    "                 prediction_method='sum',\n",
    "                 method='fixed_length_2d',\n",
    "                 number_of_output_classes=2)"
   ]
  }
 ],
 "metadata": {
  "kernelspec": {
   "display_name": "Python 3 (ipykernel)",
   "language": "python",
   "name": "python3"
  },
  "language_info": {
   "codemirror_mode": {
    "name": "ipython",
    "version": 3
   },
   "file_extension": ".py",
   "mimetype": "text/x-python",
   "name": "python",
   "nbconvert_exporter": "python",
   "pygments_lexer": "ipython3",
   "version": "3.8.10"
  }
 },
 "nbformat": 4,
 "nbformat_minor": 5
}
